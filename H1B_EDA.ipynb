{
 "cells": [
  {
   "cell_type": "code",
   "execution_count": 12,
   "metadata": {},
   "outputs": [],
   "source": [
    "import pandas as pd\n",
    "import zipfile\n",
    "import warnings\n",
    "import numpy as np\n",
    "import matplotlib.pyplot as plt\n",
    "from sklearn.preprocessing import RobustScaler\n",
    "from sklearn.model_selection import train_test_split\n",
    "from sklearn.preprocessing import OneHotEncoder\n",
    "warnings.filterwarnings(\"ignore\")"
   ]
  },
  {
   "cell_type": "code",
   "execution_count": 13,
   "metadata": {},
   "outputs": [],
   "source": [
    "df_2021 = pd.read_csv(zipfile.ZipFile('raw_data/TRK_13139_FY2021.zip', 'r').open('TRK_13139_FY2021.csv'))\n",
    "df_2022 = pd.read_csv(zipfile.ZipFile('raw_data/TRK_13139_FY2022.zip', 'r').open('TRK_13139_FY2022.csv'))\n",
    "df_2023 = pd.read_csv(zipfile.ZipFile('raw_data/TRK_13139_FY2023.zip', 'r').open('TRK_13139_FY2023.csv'))\n",
    "df_2024_multi = pd.read_csv(zipfile.ZipFile('raw_data/TRK_13139_FY2024_multi_reg.zip', 'r').open('TRK_13139_FY2024_multi_reg.csv'))\n",
    "df_2024_single = pd.read_csv(zipfile.ZipFile('raw_data/TRK_13139_FY2024_single_reg.zip', 'r').open('TRK_13139_FY2024_single_reg.csv'))"
   ]
  },
  {
   "cell_type": "markdown",
   "metadata": {},
   "source": [
    "# Shape of each dataframe"
   ]
  },
  {
   "cell_type": "code",
   "execution_count": 14,
   "metadata": {},
   "outputs": [
    {
     "data": {
      "text/plain": [
       "((269424, 56), (301447, 56), (474421, 56), (408891, 56), (350103, 56))"
      ]
     },
     "execution_count": 14,
     "metadata": {},
     "output_type": "execute_result"
    }
   ],
   "source": [
    "df_2021.shape, df_2022.shape, df_2023.shape, df_2024_multi.shape, df_2024_single.shape"
   ]
  },
  {
   "cell_type": "markdown",
   "metadata": {},
   "source": [
    "# Verify that the datasets have the same column names"
   ]
  },
  {
   "cell_type": "code",
   "execution_count": 15,
   "metadata": {},
   "outputs": [],
   "source": [
    "cols_2021 = set(df_2021.columns)\n",
    "cols_2022 = set(df_2022.columns)\n",
    "cols_2023 = set(df_2023.columns)\n",
    "cols_2024_multi = set(df_2024_multi.columns)\n",
    "cols_2024_single = set(df_2024_single.columns)\n",
    "\n",
    "# Check if all column sets are equal\n",
    "assert(cols_2021 == cols_2022 == cols_2023 == cols_2024_multi == cols_2024_single)"
   ]
  },
  {
   "cell_type": "markdown",
   "metadata": {},
   "source": [
    "# Q: Which factors contribute most to the approval / denial of a H1B petition once it has been selected from the lottery?\n",
    "Applicants are only approved or denied from an H1B petition after they were selected from the lottery. Therefore we are only interested in observations that have the **\"Selected\"** status type."
   ]
  },
  {
   "cell_type": "code",
   "execution_count": 16,
   "metadata": {},
   "outputs": [
    {
     "data": {
      "text/plain": [
       "((124368, 56), (131896, 56), (127563, 56), (103060, 56), (85304, 56))"
      ]
     },
     "execution_count": 16,
     "metadata": {},
     "output_type": "execute_result"
    }
   ],
   "source": [
    "selected_status_condition = lambda df: df['status_type'] == 'SELECTED'\n",
    "\n",
    "df_2021 = df_2021[selected_status_condition]\n",
    "df_2022 = df_2022[selected_status_condition]\n",
    "df_2023 = df_2023[selected_status_condition]\n",
    "df_2024_multi = df_2024_multi[selected_status_condition]\n",
    "df_2024_single = df_2024_single[selected_status_condition]\n",
    "\n",
    "# Print new shapes of each dataset after filtering\n",
    "df_2021.shape, df_2022.shape, df_2023.shape, df_2024_multi.shape, df_2024_single.shape"
   ]
  },
  {
   "cell_type": "markdown",
   "metadata": {},
   "source": [
    "# Combine H1B datasets from 2021-2024"
   ]
  },
  {
   "cell_type": "code",
   "execution_count": 17,
   "metadata": {},
   "outputs": [],
   "source": [
    "entire_df = pd.concat([df_2021, df_2022, df_2023, df_2024_multi, df_2024_single]).reset_index(drop = True)\n",
    "\n",
    "# Cast lottery year column as int, and employer names to uppercase\n",
    "entire_df['lottery_year'] = entire_df['lottery_year'].astype(int)\n",
    "entire_df['employer_name'] = entire_df['employer_name'].str.upper()"
   ]
  },
  {
   "cell_type": "markdown",
   "metadata": {},
   "source": [
    "# Feature preprocessing - since the following processes are deterministic and does not depend on dataset-specific statistics we can perform this on the entire dataset instead of transforming each individual split based on the attributes of the training data"
   ]
  },
  {
   "cell_type": "markdown",
   "metadata": {},
   "source": [
    "### Calculate the beneficiary's age from rec_date and their ben_year_of_birth"
   ]
  },
  {
   "cell_type": "code",
   "execution_count": 18,
   "metadata": {},
   "outputs": [],
   "source": [
    "# Fill in missing rec_dates with the lottery year\n",
    "entire_df['rec_date'] = (entire_df['rec_date']\n",
    "    .fillna(entire_df['lottery_year'])\n",
    "    .astype(str).str.slice(-4)\n",
    "    .astype(int)\n",
    ")\n",
    "\n",
    "# Calculate the beneficiary's age\n",
    "entire_df['ben_age_in_years'] = (\n",
    "    entire_df['rec_date'] \n",
    "    - entire_df['ben_year_of_birth'].astype(int)\n",
    ")"
   ]
  },
  {
   "cell_type": "markdown",
   "metadata": {},
   "source": [
    "### Map nationalities to their world regions, and worksite states to US geographical regions."
   ]
  },
  {
   "cell_type": "code",
   "execution_count": 19,
   "metadata": {},
   "outputs": [
    {
     "data": {
      "text/plain": [
       "(array(['North America', 'Asia', 'Africa', 'Europe', 'South America',\n",
       "        'Oceania', 'Unknown'], dtype=object),\n",
       " array(['West', 'Northeast', 'South', 'Midwest', 'US Territory', 'Unknown'],\n",
       "       dtype=object))"
      ]
     },
     "execution_count": 19,
     "metadata": {},
     "output_type": "execute_result"
    }
   ],
   "source": [
    "def map_countries_to_world_regions(data: pd.DataFrame) -> pd.DataFrame:\n",
    "    \"\"\"\n",
    "    Maps country codes from the 'country_of_nationality' column to a world region such as North America, South America, etc.\n",
    "    \"\"\"\n",
    "    country_region_mapping = {\n",
    "        \"CAN\": \"North America\", \"MEX\": \"North America\", \"USA\": \"North America\", \"BHS\": \"North America\", \"BRB\": \"North America\", \n",
    "        \"BLZ\": \"North America\", \"CUB\": \"North America\", \"DOM\": \"North America\", \"GRD\": \"North America\", \"HTI\": \"North America\", \n",
    "        \"HND\": \"North America\", \"JAM\": \"North America\", \"KNA\": \"North America\", \"LCA\": \"North America\", \"VCT\": \"North America\", \n",
    "        \"TTO\": \"North America\", \"PAN\": \"North America\", \"SLV\": \"North America\", \"NIC\": \"North America\", \"CRI\": \"North America\", \n",
    "        \"GTM\": \"North America\", \"ATG\": \"North America\", \"DMA\": \"North America\",\n",
    "        \n",
    "        \"ARG\": \"South America\", \"BOL\": \"South America\", \"BRA\": \"South America\", \"CHL\": \"South America\", \"COL\": \"South America\", \n",
    "        \"ECU\": \"South America\", \"GUY\": \"South America\", \"PRY\": \"South America\", \"PER\": \"South America\", \"SUR\": \"South America\", \n",
    "        \"URY\": \"South America\", \"VEN\": \"South America\", \n",
    "\n",
    "        \"ALB\": \"Europe\", \"AND\": \"Europe\", \"AUT\": \"Europe\", \"BLR\": \"Europe\", \"BEL\": \"Europe\", \"BIH\": \"Europe\", \"BGR\": \"Europe\", \n",
    "        \"HRV\": \"Europe\", \"CYP\": \"Europe\", \"CZE\": \"Europe\", \"DNK\": \"Europe\", \"EST\": \"Europe\", \"FIN\": \"Europe\", \"FRA\": \"Europe\", \n",
    "        \"DEU\": \"Europe\", \"GRC\": \"Europe\", \"HUN\": \"Europe\", \"ISL\": \"Europe\", \"IRL\": \"Europe\", \"ITA\": \"Europe\", \"XKS\": \"Europe\", \n",
    "        \"LVA\": \"Europe\", \"LIE\": \"Europe\", \"LTU\": \"Europe\", \"LUX\": \"Europe\", \"MLT\": \"Europe\", \"MDA\": \"Europe\", \"MCO\": \"Europe\", \n",
    "        \"MNE\": \"Europe\", \"NLD\": \"Europe\", \"MKD\": \"Europe\", \"NOR\": \"Europe\", \"POL\": \"Europe\", \"PRT\": \"Europe\", \"ROU\": \"Europe\", \n",
    "        \"RUS\": \"Europe\", \"SRB\": \"Europe\", \"SVK\": \"Europe\", \"SVN\": \"Europe\", \"ESP\": \"Europe\", \"SWE\": \"Europe\", \"CHE\": \"Europe\", \n",
    "        \"UKR\": \"Europe\", \"GBR\": \"Europe\", \"TUR\": \"Europe\", \"XKX\": \"Europe\",\n",
    "\n",
    "        \"DZA\": \"Africa\", \"AGO\": \"Africa\", \"BEN\": \"Africa\", \"BWA\": \"Africa\", \"BFA\": \"Africa\", \"BDI\": \"Africa\", \"CMR\": \"Africa\", \n",
    "        \"CPV\": \"Africa\", \"CAF\": \"Africa\", \"TCD\": \"Africa\", \"CIV\": \"Africa\", \"COD\": \"Africa\", \"EGY\": \"Africa\", \"GNQ\": \"Africa\", \n",
    "        \"ERI\": \"Africa\", \"SWZ\": \"Africa\", \"ETH\": \"Africa\", \"GAB\": \"Africa\", \"GMB\": \"Africa\", \"GHA\": \"Africa\", \"GIN\": \"Africa\", \n",
    "        \"GNB\": \"Africa\", \"KEN\": \"Africa\", \"LSO\": \"Africa\", \"LBR\": \"Africa\", \"LBY\": \"Africa\", \"MDG\": \"Africa\", \"MWI\": \"Africa\", \n",
    "        \"MLI\": \"Africa\", \"MRT\": \"Africa\", \"MUS\": \"Africa\", \"MAR\": \"Africa\", \"MOZ\": \"Africa\", \"NAM\": \"Africa\", \"NER\": \"Africa\", \n",
    "        \"NGA\": \"Africa\", \"RWA\": \"Africa\", \"SEN\": \"Africa\", \"SYC\": \"Africa\", \"SLE\": \"Africa\", \"SOM\": \"Africa\", \"ZAF\": \"Africa\", \n",
    "        \"SSD\": \"Africa\", \"SDN\": \"Africa\", \"TZA\": \"Africa\", \"TGO\": \"Africa\", \"TUN\": \"Africa\", \"UGA\": \"Africa\", \"ZMB\": \"Africa\", \n",
    "        \"ZWE\": \"Africa\", \"COG\": \"Africa\",\n",
    "\n",
    "        \"AFG\": \"Asia\", \"ARM\": \"Asia\", \"AZE\": \"Asia\", \"BHR\": \"Asia\", \"BGD\": \"Asia\", \"BTN\": \"Asia\", \"BRN\": \"Asia\", \"KHM\": \"Asia\", \n",
    "        \"CHN\": \"Asia\", \"GEO\": \"Asia\", \"HKG\": \"Asia\", \"IND\": \"Asia\", \"IDN\": \"Asia\", \"IRN\": \"Asia\", \"IRQ\": \"Asia\", \"ISR\": \"Asia\", \n",
    "        \"JPN\": \"Asia\", \"JOR\": \"Asia\", \"KAZ\": \"Asia\", \"KWT\": \"Asia\", \"KGZ\": \"Asia\", \"LAO\": \"Asia\", \"LBN\": \"Asia\", \"MAC\": \"Asia\", \n",
    "        \"MYS\": \"Asia\", \"MNG\": \"Asia\", \"MMR\": \"Asia\", \"NPL\": \"Asia\", \"PRK\": \"Asia\", \"OMN\": \"Asia\", \"PAK\": \"Asia\", \"PSE\": \"Asia\", \n",
    "        \"PHL\": \"Asia\", \"QAT\": \"Asia\", \"SAU\": \"Asia\", \"SGP\": \"Asia\", \"KOR\": \"Asia\", \"LKA\": \"Asia\", \"SYR\": \"Asia\", \"TWN\": \"Asia\", \n",
    "        \"TJK\": \"Asia\", \"THA\": \"Asia\", \"TKM\": \"Asia\", \"ARE\": \"Asia\", \"UZB\": \"Asia\", \"VNM\": \"Asia\", \"YEM\": \"Asia\", \n",
    "\n",
    "        \"AUS\": \"Oceania\", \"FJI\": \"Oceania\", \"NZL\": \"Oceania\", \"PNG\": \"Oceania\", \"WSM\": \"Oceania\", \"TUV\": \"Oceania\", \n",
    "\n",
    "        \"XXA\": \"Unknown\", \"AX1\": \"Unknown\", \"undefined\": \"Unknown\"\n",
    "    }\n",
    "\n",
    "    result_df = data.copy()\n",
    "    result_df['world_region_nationality'] = result_df['country_of_nationality'].map(country_region_mapping)\n",
    "    # result_df = result_df.drop(columns = 'country_of_nationality')\n",
    "    return result_df\n",
    "\n",
    "def map_states_to_geographical_regions(data: pd.DataFrame) -> pd.DataFrame:\n",
    "    \"\"\"\n",
    "    Maps US state/territory abbreviations from the 'worksite_state' column to a US geographical region such as Northeast, Midwest, etc.\n",
    "    \"\"\"\n",
    "    state_region_mapping = {\n",
    "        # **Northeast**\n",
    "        'CT': 'Northeast', 'ME': 'Northeast', 'MA': 'Northeast', 'NH': 'Northeast',\n",
    "        'RI': 'Northeast', 'VT': 'Northeast', 'NJ': 'Northeast', 'NY': 'Northeast',\n",
    "        'PA': 'Northeast',\n",
    "\n",
    "        # **Midwest**\n",
    "        'IL': 'Midwest', 'IN': 'Midwest', 'MI': 'Midwest', 'OH': 'Midwest', 'WI': 'Midwest',\n",
    "        'IA': 'Midwest', 'KS': 'Midwest', 'MN': 'Midwest', 'MO': 'Midwest', 'NE': 'Midwest',\n",
    "        'ND': 'Midwest', 'SD': 'Midwest',\n",
    "\n",
    "        # **South**\n",
    "        'DE': 'South', 'FL': 'South', 'GA': 'South', 'MD': 'South', 'NC': 'South',\n",
    "        'SC': 'South', 'VA': 'South', 'DC': 'South', 'WV': 'South', 'AL': 'South',\n",
    "        'KY': 'South', 'MS': 'South', 'TN': 'South', 'TS': 'South', 'AR': 'South', \n",
    "        'LA': 'South', 'OK': 'South', 'TX': 'South',\n",
    "\n",
    "        # **West**\n",
    "        'AZ': 'West', 'CO': 'West', 'ID': 'West', 'MT': 'West', 'NV': 'West', 'NM': 'West',\n",
    "        'UT': 'West', 'WY': 'West', 'AK': 'West', 'CA': 'West', 'HI': 'West', 'OR': 'West',\n",
    "        'WA': 'West',\n",
    "\n",
    "        # **US Territories (Grouped Separately)**\n",
    "        'PR': 'US Territory', 'GU': 'US Territory', 'VI': 'US Territory', 'AS': 'US Territory',\n",
    "\n",
    "        # **Unknown**\n",
    "        'XX': \"Unknown\" \n",
    "    }\n",
    "\n",
    "    result_df = data.copy()\n",
    "\n",
    "    # Replace missing worksite states with the corresponding value from the employer's state.\n",
    "    result_df['WORKSITE_STATE'] = entire_df['WORKSITE_STATE'].fillna(entire_df['state'])\n",
    "\n",
    "    # Map the worksite states to their US region\n",
    "    result_df['WORKSITE_REGION'] = result_df['WORKSITE_STATE'].map(state_region_mapping)\n",
    "    result_df = result_df.drop(columns = 'WORKSITE_STATE')\n",
    "    return result_df\n",
    "\n",
    "entire_df = map_states_to_geographical_regions(map_countries_to_world_regions(entire_df))\n",
    "entire_df['world_region_nationality'].unique(), entire_df['WORKSITE_REGION'].unique()"
   ]
  },
  {
   "cell_type": "markdown",
   "metadata": {},
   "source": [
    "### Standardize all wage amounts to annual."
   ]
  },
  {
   "cell_type": "code",
   "execution_count": 20,
   "metadata": {},
   "outputs": [],
   "source": [
    "def standardize_wage_to_annual(df):\n",
    "    # Create a copy of the DataFrame to avoid modifying the original\n",
    "    df_copy = df.copy()\n",
    "\n",
    "    # Cast as float, fill missing wage values with compensation paid\n",
    "    df_copy['WAGE_AMT'] = (df_copy['WAGE_AMT']\n",
    "        .fillna(df_copy['BEN_COMP_PAID'])\n",
    "        .astype(float)\n",
    "        # .dropna(subset = 'WAGE_AMT')\n",
    "    )\n",
    "\n",
    "    # Define the multiplication factors for each unit\n",
    "    wage_multipliers = {\n",
    "        \"HOUR\": 40 * 50,  # 40 hours/week * 50 weeks/year\n",
    "        \"MONTH\": 12,      # 12 months/year\n",
    "        \"WEEK\": 50        # 50 weeks/year\n",
    "    }\n",
    "\n",
    "    # Apply the multipliers based on the WAGE_UNIT\n",
    "    df_copy['WAGE_AMT_ANNUAL'] = df_copy.apply(\n",
    "        lambda row: row['WAGE_AMT'] * wage_multipliers.get(row['WAGE_UNIT'], 1) \n",
    "        if row['WAGE_UNIT'] in wage_multipliers else row['WAGE_AMT'], axis=1\n",
    "    ).astype(float)\n",
    "\n",
    "    \n",
    "    # Impute missing annual wages with median wage by lottery year\n",
    "    if df_copy['WAGE_AMT_ANNUAL'].isna().sum():\n",
    "        median_wages_by_lottery_year = df_copy.groupby('lottery_year')['WAGE_AMT_ANNUAL'].transform('median')\n",
    "        df_copy['WAGE_AMT_ANNUAL'] = df_copy['WAGE_AMT_ANNUAL'].fillna(median_wages_by_lottery_year)\n",
    "\n",
    "    return df_copy\n",
    "\n",
    "entire_df = standardize_wage_to_annual(entire_df)\n",
    "\n",
    "# Ensure that there are no missing annual wage values\n",
    "assert(entire_df['WAGE_AMT_ANNUAL'].isna().sum() == 0)"
   ]
  },
  {
   "cell_type": "markdown",
   "metadata": {},
   "source": [
    "### Transform annual wages that are greater than 1 million dollars to have at most 6 figures (digits)"
   ]
  },
  {
   "cell_type": "code",
   "execution_count": 21,
   "metadata": {},
   "outputs": [
    {
     "data": {
      "text/plain": [
       "46503     999999.0\n",
       "153376    998000.0\n",
       "10790     996595.0\n",
       "558235    990134.0\n",
       "441502    990080.0\n",
       "            ...   \n",
       "61322          0.0\n",
       "221740         0.0\n",
       "95758          0.0\n",
       "170015         0.0\n",
       "33854          0.0\n",
       "Name: WAGE_AMT_ANNUAL, Length: 572191, dtype: float64"
      ]
     },
     "execution_count": 21,
     "metadata": {},
     "output_type": "execute_result"
    }
   ],
   "source": [
    "def scale_to_six_digits_with_decimal(x):\n",
    "    \"\"\"\n",
    "    Scales annual wages greater than 999,999 to retain only six significant digits \n",
    "    by shifting the decimal point appropriately.\n",
    "\n",
    "    Arguments:\n",
    "        x (float or int): A numeric value to be scaled.\n",
    "\n",
    "    Returns:\n",
    "        float: The input value scaled such that it has six digits to the left \n",
    "               of the decimal point (with remaining digits shifted to the right).\n",
    "               Values smaller than 1,000,000 are left unchanged.\n",
    "    \"\"\"\n",
    "    if x == 0:\n",
    "        return 0.0\n",
    "    elif x <= 999999:\n",
    "        return x\n",
    "    power = int(np.floor(np.log10(abs(x))))  # number of digits - 1\n",
    "    shift = power - 5  # we want 6 digits max to the left of decimal\n",
    "    return x / (10 ** shift)\n",
    "\n",
    "entire_df['WAGE_AMT_ANNUAL'] = entire_df['WAGE_AMT_ANNUAL'].apply(scale_to_six_digits_with_decimal)\n",
    "\n",
    "entire_df['WAGE_AMT_ANNUAL'].sort_values(ascending = False)\n"
   ]
  },
  {
   "cell_type": "markdown",
   "metadata": {},
   "source": [
    "## Split data into train/val/test splits via time-based splitting - (2021-2023 will have training and validation while 2024 will be exclusively test split)"
   ]
  },
  {
   "cell_type": "code",
   "execution_count": 22,
   "metadata": {},
   "outputs": [],
   "source": [
    "# Filter the data for the splits based on lottery_year\n",
    "train_and_val_data = entire_df[entire_df['lottery_year'].isin([2021, 2022, 2023])]\n",
    "test_data = entire_df[entire_df['lottery_year'] == 2024]\n",
    "\n",
    "# Split train and validation from the filtered train_and_val_data\n",
    "X_train_and_val, y_train_and_val = train_and_val_data.drop(columns=\"FIRST_DECISION\"), train_and_val_data['FIRST_DECISION']\n",
    "X_test, y_test = test_data.drop(columns=\"FIRST_DECISION\"), test_data['FIRST_DECISION']\n",
    "\n",
    "# Make validation split 1/3rd the size of train split\n",
    "X_train, X_val, y_train, y_val = train_test_split(\n",
    "    X_train_and_val, y_train_and_val, test_size=0.33, random_state=0  # 25% for validation\n",
    ")"
   ]
  },
  {
   "cell_type": "markdown",
   "metadata": {},
   "source": [
    "# 4 features to transform\n",
    "1. WAGE_AMT\n",
    "2. NAICS_CODE\n",
    "3. ED_LEVEL_DEFINITION\n",
    "4. ben_age_in_years"
   ]
  },
  {
   "cell_type": "markdown",
   "metadata": {},
   "source": [
    "### 1. WAGE_AMT - use robust scaler to handle annual wage outliers"
   ]
  },
  {
   "cell_type": "code",
   "execution_count": 23,
   "metadata": {},
   "outputs": [],
   "source": [
    "def robust_scale_annual_wage(\n",
    "    X_train: pd.DataFrame, \n",
    "    X_val: pd.DataFrame, \n",
    "    X_test: pd.DataFrame\n",
    ") -> tuple[pd.DataFrame, pd.DataFrame, pd.DataFrame]:\n",
    "    '''Fit a RobustScaler on annual wage training data and transform the feature across all data splits.'''\n",
    "\n",
    "    X_train_copy = X_train.copy()\n",
    "    X_val_copy = X_val.copy()                                                \n",
    "    X_test_copy = X_test.copy()\n",
    "\n",
    "    scaler = RobustScaler()\n",
    "    X_train_copy[['WAGE_AMT_ANNUAL']] = scaler.fit_transform(X_train_copy[['WAGE_AMT_ANNUAL']])\n",
    "    X_val_copy[['WAGE_AMT_ANNUAL']] = scaler.transform(X_val_copy[['WAGE_AMT_ANNUAL']])\n",
    "    X_test_copy[['WAGE_AMT_ANNUAL']] = scaler.transform(X_test_copy[['WAGE_AMT_ANNUAL']])\n",
    "\n",
    "    return X_train_copy, X_val_copy, X_test_copy\n",
    "\n",
    "X_train, X_val, X_test = robust_scale_annual_wage(X_train, X_val, X_test)"
   ]
  },
  {
   "cell_type": "markdown",
   "metadata": {},
   "source": [
    "### 2. NAICS_CODE - Impute missing NAICS codes with existing employer name to NAICS mapping from dataset"
   ]
  },
  {
   "cell_type": "code",
   "execution_count": 24,
   "metadata": {},
   "outputs": [
    {
     "name": "stdout",
     "output_type": "stream",
     "text": [
      "Before imputation, the # of missing NAICS codes in the training data is: 67099\n",
      "After imputation, the # of missing NAICS codes in the training data is: 7323\n",
      "\n",
      "Before imputation, the # of missing NAICS codes in the training data is: 32839\n",
      "After imputation, the # of missing NAICS codes in the validation data is: 3511\n",
      "\n",
      "Before imputation, the # of missing NAICS codes in the training data is: 96172\n",
      "After imputation, the # of missing NAICS codes in the test data is: 44691\n",
      "\n"
     ]
    }
   ],
   "source": [
    "# Create the mapping only on training data to avoid data leakage - we do not want training data to \"know\" test set information during training.\n",
    "employer_name_to_naics_code_mapping = (X_train\n",
    "    .dropna(subset=['NAICS_CODE'])\n",
    "    .assign(NAICS_CODE=lambda df: df['NAICS_CODE'].astype(int))[['employer_name', 'NAICS_CODE']]\n",
    "    .drop_duplicates()\n",
    "    .set_index('employer_name')['NAICS_CODE']\n",
    "    .to_dict()\n",
    ")\n",
    "\n",
    "def impute_naics(df, split_name, mapping = employer_name_to_naics_code_mapping):\n",
    "    '''\n",
    "    Impute missing NAICS codes in each data split (df) given the naics mapping.\n",
    "    '''\n",
    "    df_copy = df.copy()\n",
    "    print(f\"Before imputation, the # of missing NAICS codes in the training data is: {df_copy['NAICS_CODE'].isna().sum()}\")\n",
    "\n",
    "    df_copy['NAICS_CODE'] = df_copy['NAICS_CODE'].fillna(\n",
    "        df_copy['employer_name'].map(mapping)\n",
    "    )\n",
    "\n",
    "    print(f\"After imputation, the # of missing NAICS codes in the {split_name} data is: {df_copy['NAICS_CODE'].isna().sum()}\\n\")\n",
    "\n",
    "    return df_copy['NAICS_CODE']\n",
    "\n",
    "\n",
    "X_train['NAICS_CODE'] = impute_naics(X_train, split_name = 'training')\n",
    "X_val['NAICS_CODE'] = impute_naics(X_val, split_name = 'validation')\n",
    "X_test['NAICS_CODE'] = impute_naics(X_test, split_name = 'test')\n"
   ]
  },
  {
   "cell_type": "markdown",
   "metadata": {},
   "source": [
    "### Impute missing NAICS Codes with 0 (Missing) and extract the first two digits from the NAICS_CODE column "
   ]
  },
  {
   "cell_type": "code",
   "execution_count": 25,
   "metadata": {},
   "outputs": [],
   "source": [
    "def preprocess_naics_codes(df: pd.DataFrame, sector_mapping: dict) -> pd.DataFrame:\n",
    "    # Impute missing codes with 0 (representing missing)\n",
    "    df_copy = df.copy()\n",
    "    df_copy['NAICS_CODE'] = df_copy['NAICS_CODE'].fillna(0)\n",
    "    \n",
    "    # Extract the first two digits from the NAICS_CODE column\n",
    "    df_copy['NAICS_FIRST_TWO_DIGITS'] = (df_copy['NAICS_CODE']\n",
    "        .astype(int)\n",
    "        .astype(str)\n",
    "        .str.slice(start=0, stop=2)\n",
    "        .astype(int)\n",
    "    )\n",
    "\n",
    "    # Map the first two digits of the NAICS codes to their descriptions\n",
    "    df_copy['NAICS_DESC'] = df_copy['NAICS_FIRST_TWO_DIGITS'].map(sector_mapping)\n",
    "    \n",
    "    return df_copy\n",
    "\n",
    "# Apply preprocessing only on each split separately\n",
    "# NAICS sector definitions taken from https://www.census.gov/programs-surveys/economic-census/year/2022/guidance/understanding-naics.html\n",
    "sector_mapping = {\n",
    "    0: \"Missing\",\n",
    "    11: \"Agriculture, Forestry, Fishing and Hunting\",\n",
    "    21: \"Mining, Quarrying, and Oil and Gas Extraction\",\n",
    "    22: \"Utilities\",\n",
    "    23: \"Construction\",\n",
    "    31: \"Manufacturing\",\n",
    "    32: \"Manufacturing\",\n",
    "    33: \"Manufacturing\",\n",
    "    42: \"Wholesale Trade\",\n",
    "    44: \"Retail Trade\",\n",
    "    45: \"Retail Trade\",\n",
    "    48: \"Transportation and Warehousing\",\n",
    "    49: \"Transportation and Warehousing\",\n",
    "    51: \"Information\",\n",
    "    52: \"Finance and Insurance\",\n",
    "    53: \"Real Estate and Rental and Leasing\",\n",
    "    54: \"Professional, Scientific, and Technical Services\",\n",
    "    55: \"Management of Companies and Enterprises\",\n",
    "    56: \"Administrative and Support and Waste Management and Remediation Services\",\n",
    "    61: \"Educational Services\",\n",
    "    62: \"Health Care and Social Assistance\",\n",
    "    71: \"Arts, Entertainment, and Recreation\",\n",
    "    72: \"Accommodation and Food Services\",\n",
    "    81: \"Other Services (except Public Administration)\",\n",
    "    92: \"Public Administration (not covered in economic census)\"\n",
    "}\n",
    "\n",
    "X_train = preprocess_naics_codes(X_train, sector_mapping)\n",
    "X_val = preprocess_naics_codes(X_val, sector_mapping)\n",
    "X_test = preprocess_naics_codes(X_test, sector_mapping)"
   ]
  },
  {
   "cell_type": "markdown",
   "metadata": {},
   "source": [
    "### 3. ED_LEVEL_DEFINITION - Impute missing values"
   ]
  },
  {
   "cell_type": "code",
   "execution_count": 26,
   "metadata": {},
   "outputs": [],
   "source": [
    "def preprocess_ed_level(df: pd.DataFrame) -> pd.DataFrame:\n",
    "    # Impute missing education levels with \"NO CODE PROVIDED OR ILLEGIBLE\"\n",
    "    df_copy = df.copy()\n",
    "    df_copy['ED_LEVEL_DEFINITION'] = df_copy['ED_LEVEL_DEFINITION'].fillna('NO CODE PROVIDED OR ILLEGIBLE')\n",
    "\n",
    "    return df_copy\n",
    "\n",
    "X_train = preprocess_ed_level(X_train)\n",
    "X_val = preprocess_ed_level(X_val)\n",
    "X_test = preprocess_ed_level(X_test)"
   ]
  },
  {
   "cell_type": "markdown",
   "metadata": {},
   "source": [
    "### 4. ben_age_in_years - Impute values <18 and >65 with the median age"
   ]
  },
  {
   "cell_type": "code",
   "execution_count": 27,
   "metadata": {},
   "outputs": [],
   "source": [
    "def impute_ben_age_in_years(\n",
    "    X_train: pd.DataFrame, \n",
    "    X_val: pd.DataFrame, \n",
    "    X_test: pd.DataFrame\n",
    ") -> tuple[pd.DataFrame, pd.DataFrame, pd.DataFrame]:\n",
    "    # Replace nonsensical ages with the median of valid ages (between 18 and 65 inclusive)\n",
    "    X_train_copy = X_train.copy()\n",
    "    X_val_copy = X_val.copy()                                                \n",
    "    X_test_copy = X_test.copy()\n",
    "\n",
    "    # Get the median of the valid ages in the training dataset\n",
    "    valid_ages_train = X_train_copy[lambda df:\n",
    "        (df['ben_age_in_years'] >= 18) & \n",
    "        (df['ben_age_in_years'] <= 65)\n",
    "    ]['ben_age_in_years']\n",
    "    median_age_train = valid_ages_train.median()\n",
    "\n",
    "    # Impute invalid ages in train, val, and test splits with the median age derived from training data\n",
    "    X_train_copy.loc[lambda df:\n",
    "        (df['ben_age_in_years'] < 18) | \n",
    "        (df['ben_age_in_years'] > 65), 'ben_age_in_years'\n",
    "    ] = median_age_train\n",
    "\n",
    "    X_val_copy.loc[lambda df:\n",
    "        (df['ben_age_in_years'] < 18) | \n",
    "        (df['ben_age_in_years'] > 65), 'ben_age_in_years'\n",
    "    ] = median_age_train\n",
    "\n",
    "    X_test_copy.loc[lambda df:\n",
    "        (df['ben_age_in_years'] < 18) | \n",
    "        (df['ben_age_in_years'] > 65), 'ben_age_in_years'\n",
    "    ] = median_age_train\n",
    "\n",
    "    return X_train_copy, X_val_copy, X_test_copy\n",
    "\n",
    "X_train, X_val, X_test = impute_ben_age_in_years(X_train, X_val, X_test)\n"
   ]
  },
  {
   "cell_type": "markdown",
   "metadata": {},
   "source": [
    "### Select subset of main features to use for ML Model\n",
    "\n",
    "**gender**: The gender of the beneficiary\n",
    "\n",
    "**world_region_nationality**: The nationality of the beneficiary by world region\n",
    "\n",
    "**WORKSITE_REGION**: The region of the worksite that the beneficiary works in by US region\n",
    "\n",
    "**WAGE_AMT_ANNUAL**: The annual wage amount offered to the beneficiary\n",
    "\n",
    "**NAICS_DESC**: (aka North American Industry Classification System). The description of the work sector the beneficiary works in. \n",
    "\n",
    "**ED_LEVEL_DEFINITION**: The education level of the beneficiary.\n",
    "\n",
    "**ben_age_in_years**: The age of the beneficiary at the time that their petition was sent.\n",
    "\n",
    "**FIRST_DECISION** (outcome Y): The first decision of the petition, which indicates whether it was approved or denied.\n"
   ]
  },
  {
   "cell_type": "code",
   "execution_count": 28,
   "metadata": {},
   "outputs": [],
   "source": [
    "main_features = [\n",
    "    'gender',\n",
    "    'world_region_nationality',\n",
    "    'WORKSITE_REGION',\n",
    "    'WAGE_AMT_ANNUAL',\n",
    "    'NAICS_DESC',\n",
    "    'ED_LEVEL_DEFINITION',\n",
    "    'ben_age_in_years'\n",
    "]\n",
    "\n",
    "X_train = X_train[main_features]\n",
    "X_val = X_val[main_features]\n",
    "X_test = X_test[main_features]"
   ]
  },
  {
   "cell_type": "markdown",
   "metadata": {},
   "source": [
    "### Summary statistics for training dataset before encoding categorical features"
   ]
  },
  {
   "cell_type": "code",
   "execution_count": 29,
   "metadata": {},
   "outputs": [
    {
     "name": "stdout",
     "output_type": "stream",
     "text": [
      "Number of observations in all splits: 374903\n",
      "Number of observations in training split: 190013\n",
      "Number of observations in val split: 93800\n",
      "Number of observations in test split: 91090\n"
     ]
    }
   ],
   "source": [
    "train_split_temp = (X_train.merge(\n",
    "        y_train, \n",
    "        left_index = True, \n",
    "        right_index = True\n",
    "    )\n",
    "    .dropna(subset = ['FIRST_DECISION'])\n",
    "    .reset_index(drop = True)\n",
    ")\n",
    "\n",
    "val_split_temp = (X_val.merge(\n",
    "        y_val, \n",
    "        left_index = True, \n",
    "        right_index = True\n",
    "    )\n",
    "    .dropna(subset = ['FIRST_DECISION'])\n",
    "    .reset_index(drop = True)\n",
    ")\n",
    "\n",
    "test_split_temp = (X_test.merge(\n",
    "        y_test, \n",
    "        left_index = True, \n",
    "        right_index = True\n",
    "    )\n",
    "    .dropna(subset = ['FIRST_DECISION'])\n",
    "    .reset_index(drop = True)\n",
    ")\n",
    "\n",
    "print(f\"Number of observations in all splits: {train_split_temp.shape[0] + val_split_temp.shape[0] + test_split_temp.shape[0]}\")\n",
    "print(f\"Number of observations in training split: {train_split_temp.shape[0]}\")\n",
    "print(f\"Number of observations in val split: {val_split_temp.shape[0]}\")\n",
    "print(f\"Number of observations in test split: {test_split_temp.shape[0]}\")"
   ]
  },
  {
   "cell_type": "markdown",
   "metadata": {},
   "source": [
    "### Display class distribution of our target variable FIRST_DECISION"
   ]
  },
  {
   "cell_type": "code",
   "execution_count": 30,
   "metadata": {},
   "outputs": [
    {
     "data": {
      "image/png": "[encoded data removed]",
      "text/plain": [
       "<Figure size 640x480 with 1 Axes>"
      ]
     },
     "metadata": {},
     "output_type": "display_data"
    }
   ],
   "source": [
    "def autopct_format(values):\n",
    "    def my_format(pct):\n",
    "        total = sum(values)\n",
    "        val = int(round(pct*total/100.0))\n",
    "\n",
    "        # Don't return anything if the percentage is less than ...\n",
    "        if float('{:.1f}'.format(pct, v=val)) < 3:\n",
    "            return None\n",
    "        return '{:.1f}%\\n({v:d})'.format(pct, v=val)\n",
    "    return my_format\n",
    "\n",
    "s = train_split_temp['FIRST_DECISION'].value_counts()\n",
    "plt.pie(s,labels = s.index, autopct=autopct_format(s))\n",
    "plt.title(f'Distribution of FIRST_DECISION')\n",
    "plt.show()"
   ]
  },
  {
   "cell_type": "markdown",
   "metadata": {},
   "source": [
    "### Summary statistics of our categorical and discrete features"
   ]
  },
  {
   "cell_type": "code",
   "execution_count": 31,
   "metadata": {},
   "outputs": [
    {
     "data": {
      "text/html": [
       "<div>\n",
       "<style scoped>\n",
       "    .dataframe tbody tr th:only-of-type {\n",
       "        vertical-align: middle;\n",
       "    }\n",
       "\n",
       "    .dataframe tbody tr th {\n",
       "        vertical-align: top;\n",
       "    }\n",
       "\n",
       "    .dataframe thead th {\n",
       "        text-align: right;\n",
       "    }\n",
       "</style>\n",
       "<table border=\"1\" class=\"dataframe\">\n",
       "  <thead>\n",
       "    <tr style=\"text-align: right;\">\n",
       "      <th></th>\n",
       "      <th>gender</th>\n",
       "      <th>world_region_nationality</th>\n",
       "      <th>WORKSITE_REGION</th>\n",
       "      <th>NAICS_DESC</th>\n",
       "      <th>ED_LEVEL_DEFINITION</th>\n",
       "    </tr>\n",
       "  </thead>\n",
       "  <tbody>\n",
       "    <tr>\n",
       "      <th>count</th>\n",
       "      <td>190013</td>\n",
       "      <td>190013</td>\n",
       "      <td>190013</td>\n",
       "      <td>179233</td>\n",
       "      <td>190013</td>\n",
       "    </tr>\n",
       "    <tr>\n",
       "      <th>unique</th>\n",
       "      <td>2</td>\n",
       "      <td>7</td>\n",
       "      <td>5</td>\n",
       "      <td>21</td>\n",
       "      <td>10</td>\n",
       "    </tr>\n",
       "    <tr>\n",
       "      <th>top</th>\n",
       "      <td>male</td>\n",
       "      <td>Asia</td>\n",
       "      <td>West</td>\n",
       "      <td>Professional, Scientific, and Technical Services</td>\n",
       "      <td>MASTER'S DEGREE</td>\n",
       "    </tr>\n",
       "    <tr>\n",
       "      <th>freq</th>\n",
       "      <td>127533</td>\n",
       "      <td>167959</td>\n",
       "      <td>59703</td>\n",
       "      <td>116191</td>\n",
       "      <td>90282</td>\n",
       "    </tr>\n",
       "  </tbody>\n",
       "</table>\n",
       "</div>"
      ],
      "text/plain": [
       "        gender world_region_nationality WORKSITE_REGION  \\\n",
       "count   190013                   190013          190013   \n",
       "unique       2                        7               5   \n",
       "top       male                     Asia            West   \n",
       "freq    127533                   167959           59703   \n",
       "\n",
       "                                              NAICS_DESC ED_LEVEL_DEFINITION  \n",
       "count                                             179233              190013  \n",
       "unique                                                21                  10  \n",
       "top     Professional, Scientific, and Technical Services     MASTER'S DEGREE  \n",
       "freq                                              116191               90282  "
      ]
     },
     "metadata": {},
     "output_type": "display_data"
    },
    {
     "data": {
      "text/html": [
       "<div>\n",
       "<style scoped>\n",
       "    .dataframe tbody tr th:only-of-type {\n",
       "        vertical-align: middle;\n",
       "    }\n",
       "\n",
       "    .dataframe tbody tr th {\n",
       "        vertical-align: top;\n",
       "    }\n",
       "\n",
       "    .dataframe thead th {\n",
       "        text-align: right;\n",
       "    }\n",
       "</style>\n",
       "<table border=\"1\" class=\"dataframe\">\n",
       "  <thead>\n",
       "    <tr style=\"text-align: right;\">\n",
       "      <th></th>\n",
       "      <th>WAGE_AMT_ANNUAL</th>\n",
       "      <th>ben_age_in_years</th>\n",
       "    </tr>\n",
       "  </thead>\n",
       "  <tbody>\n",
       "    <tr>\n",
       "      <th>count</th>\n",
       "      <td>190013.000000</td>\n",
       "      <td>190013.000000</td>\n",
       "    </tr>\n",
       "    <tr>\n",
       "      <th>mean</th>\n",
       "      <td>0.366878</td>\n",
       "      <td>30.948893</td>\n",
       "    </tr>\n",
       "    <tr>\n",
       "      <th>std</th>\n",
       "      <td>1.837710</td>\n",
       "      <td>5.649947</td>\n",
       "    </tr>\n",
       "    <tr>\n",
       "      <th>min</th>\n",
       "      <td>-4.146789</td>\n",
       "      <td>19.000000</td>\n",
       "    </tr>\n",
       "    <tr>\n",
       "      <th>25%</th>\n",
       "      <td>-0.647064</td>\n",
       "      <td>27.000000</td>\n",
       "    </tr>\n",
       "    <tr>\n",
       "      <th>50%</th>\n",
       "      <td>0.018349</td>\n",
       "      <td>30.000000</td>\n",
       "    </tr>\n",
       "    <tr>\n",
       "      <th>75%</th>\n",
       "      <td>1.128440</td>\n",
       "      <td>34.000000</td>\n",
       "    </tr>\n",
       "    <tr>\n",
       "      <th>max</th>\n",
       "      <td>41.568578</td>\n",
       "      <td>65.000000</td>\n",
       "    </tr>\n",
       "  </tbody>\n",
       "</table>\n",
       "</div>"
      ],
      "text/plain": [
       "       WAGE_AMT_ANNUAL  ben_age_in_years\n",
       "count    190013.000000     190013.000000\n",
       "mean          0.366878         30.948893\n",
       "std           1.837710          5.649947\n",
       "min          -4.146789         19.000000\n",
       "25%          -0.647064         27.000000\n",
       "50%           0.018349         30.000000\n",
       "75%           1.128440         34.000000\n",
       "max          41.568578         65.000000"
      ]
     },
     "metadata": {},
     "output_type": "display_data"
    }
   ],
   "source": [
    "categorical_features = [\n",
    "    'gender', \n",
    "    'world_region_nationality', \n",
    "    'WORKSITE_REGION', \n",
    "    'NAICS_DESC', \n",
    "    'ED_LEVEL_DEFINITION'\n",
    "]\n",
    "display(train_split_temp[categorical_features].describe())\n",
    "display(train_split_temp.describe())"
   ]
  },
  {
   "cell_type": "markdown",
   "metadata": {},
   "source": [
    "### Encode categorical features"
   ]
  },
  {
   "cell_type": "code",
   "execution_count": 32,
   "metadata": {},
   "outputs": [],
   "source": [
    "def encode_categorical_features(train_df, val_df, test_df, features):\n",
    "    train_df_copy = train_df.copy()\n",
    "    val_df_copy = val_df.copy()\n",
    "    test_df_copy = test_df.copy()\n",
    "\n",
    "    for feature in features:\n",
    "        # Initialize and fit OneHotEncoder\n",
    "        enc = OneHotEncoder(sparse_output=False, handle_unknown='ignore')\n",
    "        enc.fit(train_df[[feature]])  # Fit on training data\n",
    "\n",
    "        # Transform each split\n",
    "        train_encoded = enc.transform(train_df[[feature]])\n",
    "        val_encoded = enc.transform(val_df[[feature]])\n",
    "        test_encoded = enc.transform(test_df[[feature]])\n",
    "\n",
    "        # Convert arrays to DataFrames\n",
    "        train_onehot = pd.DataFrame(\n",
    "            train_encoded, \n",
    "            columns=enc.get_feature_names_out([feature]), index=train_df.index\n",
    "        )\n",
    "        val_onehot = pd.DataFrame(\n",
    "            val_encoded, \n",
    "            columns=enc.get_feature_names_out([feature]), index=val_df.index\n",
    "        )\n",
    "        test_onehot = pd.DataFrame(\n",
    "            test_encoded, \n",
    "            columns=enc.get_feature_names_out([feature]), index=test_df.index\n",
    "        )\n",
    "\n",
    "        # Concatenate encoded features and drop original feature\n",
    "        train_df_copy = pd.concat([train_df_copy, train_onehot], axis=1).drop(columns = feature)\n",
    "        val_df_copy = pd.concat([val_df_copy, val_onehot], axis=1).drop(columns = feature)\n",
    "        test_df_copy = pd.concat([test_df_copy, test_onehot], axis=1).drop(columns = feature)\n",
    "\n",
    "    return train_df_copy, val_df_copy, test_df_copy\n",
    "\n",
    "categorical_features = [\n",
    "    'gender', \n",
    "    'world_region_nationality', \n",
    "    'WORKSITE_REGION', \n",
    "    'NAICS_DESC', \n",
    "    'ED_LEVEL_DEFINITION'\n",
    "]\n",
    "X_train, X_val, X_test = encode_categorical_features(X_train, X_val, X_test, categorical_features)"
   ]
  },
  {
   "cell_type": "markdown",
   "metadata": {},
   "source": [
    "### Write train, val and test datasets to csv for ML modeling"
   ]
  },
  {
   "cell_type": "code",
   "execution_count": 33,
   "metadata": {},
   "outputs": [
    {
     "name": "stdout",
     "output_type": "stream",
     "text": [
      "Training Set Size: 190013\n",
      "Validation Set Size: 93800\n",
      "Test Set Size: 91090\n"
     ]
    }
   ],
   "source": [
    "# Replace Approved with 1 and Denied with 0\n",
    "first_decision_mapping = {'Approved': 1, 'Denied': 0}\n",
    "\n",
    "train_split = (X_train.merge(\n",
    "        y_train, \n",
    "        left_index = True, \n",
    "        right_index = True\n",
    "    )\n",
    "    .dropna(subset = ['FIRST_DECISION'])\n",
    "    .reset_index(drop = True)\n",
    ")\n",
    "train_split['FIRST_DECISION'] = train_split['FIRST_DECISION'].replace(first_decision_mapping)\n",
    "train_split.to_csv('train_split.csv')\n",
    "\n",
    "val_split = (X_val.merge(\n",
    "        y_val, \n",
    "        left_index = True, \n",
    "        right_index = True\n",
    "    )\n",
    "    .dropna(subset = ['FIRST_DECISION'])\n",
    "    .reset_index(drop = True)\n",
    ")\n",
    "val_split['FIRST_DECISION'] = val_split['FIRST_DECISION'].replace(first_decision_mapping)\n",
    "val_split.to_csv('val_split.csv')\n",
    "\n",
    "test_split = (X_test.merge(\n",
    "        y_test, \n",
    "        left_index = True, \n",
    "        right_index = True\n",
    "    )\n",
    "    .dropna(subset = ['FIRST_DECISION'])\n",
    "    .reset_index(drop = True)\n",
    ")\n",
    "test_split['FIRST_DECISION'] = test_split['FIRST_DECISION'].replace(first_decision_mapping)\n",
    "test_split.to_csv('test_split.csv')\n",
    "\n",
    "# Output sizes of splits\n",
    "print(\"Training Set Size:\", train_split.shape[0])\n",
    "print(\"Validation Set Size:\", val_split.shape[0])\n",
    "print(\"Test Set Size:\", test_split.shape[0])"
   ]
  }
 ],
 "metadata": {
  "kernelspec": {
   "display_name": "Python 3",
   "language": "python",
   "name": "python3"
  },
  "language_info": {
   "codemirror_mode": {
    "name": "ipython",
    "version": 3
   },
   "file_extension": ".py",
   "mimetype": "text/x-python",
   "name": "python",
   "nbconvert_exporter": "python",
   "pygments_lexer": "ipython3",
   "version": "3.12.2"
  }
 },
 "nbformat": 4,
 "nbformat_minor": 2
}
