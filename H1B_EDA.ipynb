{
 "cells": [
  {
   "cell_type": "code",
   "execution_count": 89,
   "metadata": {},
   "outputs": [],
   "source": [
    "import pandas as pd\n",
    "import zipfile\n",
    "import warnings\n",
    "import numpy as np\n",
    "import matplotlib.pyplot as plt\n",
    "from sklearn.preprocessing import RobustScaler\n",
    "from sklearn.model_selection import train_test_split\n",
    "from sklearn.preprocessing import OneHotEncoder\n",
    "warnings.filterwarnings(\"ignore\")"
   ]
  },
  {
   "cell_type": "code",
   "execution_count": 90,
   "metadata": {},
   "outputs": [],
   "source": [
    "df_2021 = pd.read_csv(zipfile.ZipFile('raw_data/TRK_13139_FY2021.zip', 'r').open('TRK_13139_FY2021.csv'))\n",
    "df_2022 = pd.read_csv(zipfile.ZipFile('raw_data/TRK_13139_FY2022.zip', 'r').open('TRK_13139_FY2022.csv'))\n",
    "df_2023 = pd.read_csv(zipfile.ZipFile('raw_data/TRK_13139_FY2023.zip', 'r').open('TRK_13139_FY2023.csv'))\n",
    "df_2024_multi = pd.read_csv(zipfile.ZipFile('raw_data/TRK_13139_FY2024_multi_reg.zip', 'r').open('TRK_13139_FY2024_multi_reg.csv'))\n",
    "df_2024_single = pd.read_csv(zipfile.ZipFile('raw_data/TRK_13139_FY2024_single_reg.zip', 'r').open('TRK_13139_FY2024_single_reg.csv'))"
   ]
  },
  {
   "cell_type": "markdown",
   "metadata": {},
   "source": [
    "# Shape of each dataframe"
   ]
  },
  {
   "cell_type": "code",
   "execution_count": 91,
   "metadata": {},
   "outputs": [
    {
     "data": {
      "text/plain": [
       "((269424, 56), (301447, 56), (474421, 56), (408891, 56), (350103, 56))"
      ]
     },
     "execution_count": 91,
     "metadata": {},
     "output_type": "execute_result"
    }
   ],
   "source": [
    "df_2021.shape, df_2022.shape, df_2023.shape, df_2024_multi.shape, df_2024_single.shape"
   ]
  },
  {
   "cell_type": "markdown",
   "metadata": {},
   "source": [
    "# Verify that the datasets have the same column names"
   ]
  },
  {
   "cell_type": "code",
   "execution_count": 92,
   "metadata": {},
   "outputs": [
    {
     "name": "stdout",
     "output_type": "stream",
     "text": [
      "Same column names.\n"
     ]
    }
   ],
   "source": [
    "cols_2021 = set(df_2021.columns)\n",
    "cols_2022 = set(df_2022.columns)\n",
    "cols_2023 = set(df_2023.columns)\n",
    "cols_2024_multi = set(df_2024_multi.columns)\n",
    "cols_2024_single = set(df_2024_single.columns)\n",
    "\n",
    "# Check if all column sets are equal\n",
    "if cols_2021 == cols_2022 == cols_2023 == cols_2024_multi == cols_2024_single:\n",
    "    print(\"Same column names.\")\n",
    "else:\n",
    "    print(\"Different column names.\")"
   ]
  },
  {
   "cell_type": "markdown",
   "metadata": {},
   "source": [
    "# Read in and display Data Dictionary"
   ]
  },
  {
   "cell_type": "code",
   "execution_count": 93,
   "metadata": {},
   "outputs": [
    {
     "data": {
      "text/plain": [
       "{'bcn': 'Beneficiary confirmation number. Unique ID for each registration submitted',\n",
       " 'country_of_birth': \"Beneficiary's country of birth\",\n",
       " 'country_of_nationality': \"Beneficiary's country of nationality\",\n",
       " 'ben_date_of_birth': \"Beneficiary's date of birth\",\n",
       " 'ben_year_of_birth': \"Beneficiary's year of birth\",\n",
       " 'gender': \"Beneficiary's gender\",\n",
       " 'employer_name': 'Employer name for registration',\n",
       " 'FEIN': \"Employer's tax number\",\n",
       " 'mail_addr': \"Employer's mailing address\",\n",
       " 'city': \"Employer's city\",\n",
       " 'state': \"Employer's state\",\n",
       " 'zip': \"Employer's zip code\",\n",
       " 'agent_first_name': 'First name of registered agent',\n",
       " 'agent_last_name': 'Last name of registered agent',\n",
       " 'lottery_year': 'Lottery year of registration',\n",
       " 'status_type': 'Status of the registration. \"Selected\" means the registration was selected in the lottery. \"Created\" or \"Eligible\" means the registration was not selected in the lottery.',\n",
       " 'ben_multi_reg_ind': 'Indicator of multiple registrations for beneficiary (a value of 1 represents a registration for a beneficiary who has multiple registrations with different employers)',\n",
       " 'RECEIPT_NUMBER': 'Unique number assigned to the petition.',\n",
       " 'REC_DATE': 'Date petition was received',\n",
       " 'FIRST_DECISION': 'First decision of petition',\n",
       " 'FIRST_DECISION_DATE': 'Date of first decision',\n",
       " 'i129_employer_name': \"Employer's name provided on I-129 petition\",\n",
       " 'PET_STREET': \"Petitioner's street address\",\n",
       " 'PET_CITY': \"Petitioner's city\",\n",
       " 'PET_STATE': \"Petitioner's state\",\n",
       " 'PET_ZIP': \"Petitioner's zip code\",\n",
       " 'REQUESTED_CLASS': 'Requested class for beneficiary',\n",
       " 'BASIS_FOR_CLASSIFICATION': 'Basis for Classification, as provided by the petitioner in Part 2, Question 2 of the Form I-129. See lookup table below.',\n",
       " 'REQUESTED_ACTION': 'Requested Action, as provided by the petitioner in Part 2 Question 4 of the Form I-129. See lookup table below.',\n",
       " 'NUMBER_OF_BENEFICIARIES': 'Total number of beneficiaries for petition',\n",
       " 'BEN_SEX': \"Beneficiary's gender\",\n",
       " 'BEN_COUNTRY_OF_BIRTH': \"Beneficiary's country of birth\",\n",
       " 'BEN_CURRENT_CLASS': \"Beneficiary's current classification\",\n",
       " 'JOB_TITLE': \"Beneficiary's job title\",\n",
       " 'DOL_ETA_CASE_NUMBER': 'Unique identifier for the DOL ETA Case.',\n",
       " 'WORKSITE_STREET': 'Worksite street address',\n",
       " 'WORKSITE_CITY': 'Worksite city',\n",
       " 'WORKSITE_STATE': 'Worksite state',\n",
       " 'WORKSITE_ZIP': 'Worksite zip code',\n",
       " 'FULL_TIME_IND': 'Indicator for full time role',\n",
       " 'WAGE_AMT': 'Wage amount',\n",
       " 'WAGE_UNIT': 'Wage unit',\n",
       " 'VALID_FROM': 'Start date of classification validity',\n",
       " 'VALID_TO': 'End date of classification validity',\n",
       " 'NUM_OF_EMP_IN_US': 'Number of employees in the US for the petitioner',\n",
       " 'S1Q1A': 'Section 1, Question 1A of H-1B Supplement. Is the petitioner an H-1B dependent employer?',\n",
       " 'S1Q1B': 'Section 1, Question 1B of H-1B Supplement. Has the petitioner ever been found to be a willful violator?',\n",
       " 'BEN_EDUCATION_CODE': \"Beneficiary's education code\",\n",
       " 'ED_LEVEL_DEFINITION': \"Beneficiary's education definition (descript the Education Code corresponds to)\",\n",
       " 'BEN_PFIELD_OF_STUDY': \"Beneficiary's field of study\",\n",
       " 'BEN_COMP_PAID': \"Beneficiary's rate of pay per year\",\n",
       " 'DOT_CODE': 'Beneficiary\\'s job code\\nRefer to descriptions provided on \"I-129 H1B Job Codes\" tab for Class Preferences= H1B, 1B1, 1B2, 1B3, 1B4, and HSC. ',\n",
       " 'NAICS_CODE': 'Description of NAICS Code. See code reference at https://www.naics.com/search/',\n",
       " 'S3Q1': 'Section 3, Question 1 of H-1B Supplement. Type of H-1B petition you are filing.',\n",
       " 'S4Q1': 'Section 4, Question 1 of H-1B Supplement.  The beneficiary of this petition will be assigned to work at an off-site location for all or part of the\\nperiod for which H-1B classification sought.',\n",
       " 'T_U_VAWA_FLAG': 'VAWA indicator,  nonblank value indicates records in protected population under 1367.',\n",
       " nan: nan,\n",
       " 'Lookup Table for Class_Preference': nan,\n",
       " 'Class_Preference': 'Code Description',\n",
       " 'H1B': 'H1B SPECIALTY OCCUPATIONS',\n",
       " '1B1': 'H1B SPECIALTY OCCUPATIONS',\n",
       " '1B2': 'H1B SPEC OCC RELATED TO DOD',\n",
       " '1B3': 'H1B SPEC OCC, FASHION MODELS',\n",
       " 'HSC': 'H1B SPEC OCC, SINGAPORE/CHILE',\n",
       " 'Lookup Table for Basis for Classification': nan,\n",
       " 'Basis_for_Classification': 'Code Description',\n",
       " 'A ': 'New employment',\n",
       " 'B ': 'Continuation of previously approved employment without change',\n",
       " 'C ': 'Change in previously approved employment',\n",
       " 'D ': 'New concurrent employment',\n",
       " 'E ': 'Change of employer',\n",
       " 'F ': 'Amended petition',\n",
       " 'Lookup Table for Requested Action': nan,\n",
       " 'Requested_Action': 'Code Description',\n",
       " 'A': 'No Diploma ',\n",
       " 'B': 'High School Grad ',\n",
       " 'C': 'Some college credit, but less than 1 year ',\n",
       " 'D': 'One or more years of college, no degree ',\n",
       " 'E': 'Associates degree ',\n",
       " 'F': \"Bachelor's Degree\",\n",
       " 'Lookup Table for Ben Education Code ': nan,\n",
       " 'Ben_Education_Code': 'Code Description',\n",
       " 'G': \"Master's Degree\",\n",
       " 'H': 'Professional Degree ',\n",
       " 'I': 'Doctorate Degree ',\n",
       " 'J': 'Unknown',\n",
       " 'K': 'Unknown',\n",
       " 'R': 'Unknown',\n",
       " 'Blank': 'Unknown'}"
      ]
     },
     "execution_count": 93,
     "metadata": {},
     "output_type": "execute_result"
    }
   ],
   "source": [
    "dict(zip(data_dict['Column'], data_dict['Description']))"
   ]
  },
  {
   "cell_type": "code",
   "execution_count": 94,
   "metadata": {},
   "outputs": [
    {
     "name": "stdout",
     "output_type": "stream",
     "text": [
      "(56, 2) (52, 2)\n",
      "Data dictionary columns that don't exist in H1B dataset: {'VALID_TO', 'FIRST_DECISION_DATE', 'REC_DATE', 'VALID_FROM'}\n",
      "H1B Dataset columns that do not exist in data dictionary: {'first_decision_date', 'rec_date', 'valid_to', 'valid_from'}\n",
      "\n",
      "H1B Dataset columns that do not exist in data dictionary:\n",
      "    first_decision_date\n",
      "    rec_date\n",
      "    valid_to\n",
      "    valid_from\n"
     ]
    },
    {
     "data": {
      "text/html": [
       "<div>\n",
       "<style scoped>\n",
       "    .dataframe tbody tr th:only-of-type {\n",
       "        vertical-align: middle;\n",
       "    }\n",
       "\n",
       "    .dataframe tbody tr th {\n",
       "        vertical-align: top;\n",
       "    }\n",
       "\n",
       "    .dataframe thead th {\n",
       "        text-align: right;\n",
       "    }\n",
       "</style>\n",
       "<table border=\"1\" class=\"dataframe\">\n",
       "  <thead>\n",
       "    <tr style=\"text-align: right;\">\n",
       "      <th></th>\n",
       "      <th>Column</th>\n",
       "      <th>Description</th>\n",
       "    </tr>\n",
       "  </thead>\n",
       "  <tbody>\n",
       "    <tr>\n",
       "      <th>27</th>\n",
       "      <td>BASIS_FOR_CLASSIFICATION</td>\n",
       "      <td>Basis for Classification, as provided by the p...</td>\n",
       "    </tr>\n",
       "    <tr>\n",
       "      <th>50</th>\n",
       "      <td>BEN_COMP_PAID</td>\n",
       "      <td>Beneficiary's rate of pay per year</td>\n",
       "    </tr>\n",
       "    <tr>\n",
       "      <th>31</th>\n",
       "      <td>BEN_COUNTRY_OF_BIRTH</td>\n",
       "      <td>Beneficiary's country of birth</td>\n",
       "    </tr>\n",
       "    <tr>\n",
       "      <th>32</th>\n",
       "      <td>BEN_CURRENT_CLASS</td>\n",
       "      <td>Beneficiary's current classification</td>\n",
       "    </tr>\n",
       "    <tr>\n",
       "      <th>47</th>\n",
       "      <td>BEN_EDUCATION_CODE</td>\n",
       "      <td>Beneficiary's education code</td>\n",
       "    </tr>\n",
       "    <tr>\n",
       "      <th>49</th>\n",
       "      <td>BEN_PFIELD_OF_STUDY</td>\n",
       "      <td>Beneficiary's field of study</td>\n",
       "    </tr>\n",
       "    <tr>\n",
       "      <th>30</th>\n",
       "      <td>BEN_SEX</td>\n",
       "      <td>Beneficiary's gender</td>\n",
       "    </tr>\n",
       "    <tr>\n",
       "      <th>34</th>\n",
       "      <td>DOL_ETA_CASE_NUMBER</td>\n",
       "      <td>Unique identifier for the DOL ETA Case.</td>\n",
       "    </tr>\n",
       "    <tr>\n",
       "      <th>51</th>\n",
       "      <td>DOT_CODE</td>\n",
       "      <td>Beneficiary's job code\\nRefer to descriptions ...</td>\n",
       "    </tr>\n",
       "    <tr>\n",
       "      <th>48</th>\n",
       "      <td>ED_LEVEL_DEFINITION</td>\n",
       "      <td>Beneficiary's education definition (descript t...</td>\n",
       "    </tr>\n",
       "    <tr>\n",
       "      <th>7</th>\n",
       "      <td>FEIN</td>\n",
       "      <td>Employer's tax number</td>\n",
       "    </tr>\n",
       "    <tr>\n",
       "      <th>19</th>\n",
       "      <td>FIRST_DECISION</td>\n",
       "      <td>First decision of petition</td>\n",
       "    </tr>\n",
       "    <tr>\n",
       "      <th>39</th>\n",
       "      <td>FULL_TIME_IND</td>\n",
       "      <td>Indicator for full time role</td>\n",
       "    </tr>\n",
       "    <tr>\n",
       "      <th>33</th>\n",
       "      <td>JOB_TITLE</td>\n",
       "      <td>Beneficiary's job title</td>\n",
       "    </tr>\n",
       "    <tr>\n",
       "      <th>52</th>\n",
       "      <td>NAICS_CODE</td>\n",
       "      <td>Description of NAICS Code. See code reference ...</td>\n",
       "    </tr>\n",
       "    <tr>\n",
       "      <th>29</th>\n",
       "      <td>NUMBER_OF_BENEFICIARIES</td>\n",
       "      <td>Total number of beneficiaries for petition</td>\n",
       "    </tr>\n",
       "    <tr>\n",
       "      <th>44</th>\n",
       "      <td>NUM_OF_EMP_IN_US</td>\n",
       "      <td>Number of employees in the US for the petitioner</td>\n",
       "    </tr>\n",
       "    <tr>\n",
       "      <th>23</th>\n",
       "      <td>PET_CITY</td>\n",
       "      <td>Petitioner's city</td>\n",
       "    </tr>\n",
       "    <tr>\n",
       "      <th>24</th>\n",
       "      <td>PET_STATE</td>\n",
       "      <td>Petitioner's state</td>\n",
       "    </tr>\n",
       "    <tr>\n",
       "      <th>22</th>\n",
       "      <td>PET_STREET</td>\n",
       "      <td>Petitioner's street address</td>\n",
       "    </tr>\n",
       "    <tr>\n",
       "      <th>25</th>\n",
       "      <td>PET_ZIP</td>\n",
       "      <td>Petitioner's zip code</td>\n",
       "    </tr>\n",
       "    <tr>\n",
       "      <th>17</th>\n",
       "      <td>RECEIPT_NUMBER</td>\n",
       "      <td>Unique number assigned to the petition.</td>\n",
       "    </tr>\n",
       "    <tr>\n",
       "      <th>28</th>\n",
       "      <td>REQUESTED_ACTION</td>\n",
       "      <td>Requested Action, as provided by the petitione...</td>\n",
       "    </tr>\n",
       "    <tr>\n",
       "      <th>26</th>\n",
       "      <td>REQUESTED_CLASS</td>\n",
       "      <td>Requested class for beneficiary</td>\n",
       "    </tr>\n",
       "    <tr>\n",
       "      <th>45</th>\n",
       "      <td>S1Q1A</td>\n",
       "      <td>Section 1, Question 1A of H-1B Supplement. Is ...</td>\n",
       "    </tr>\n",
       "    <tr>\n",
       "      <th>46</th>\n",
       "      <td>S1Q1B</td>\n",
       "      <td>Section 1, Question 1B of H-1B Supplement. Has...</td>\n",
       "    </tr>\n",
       "    <tr>\n",
       "      <th>53</th>\n",
       "      <td>S3Q1</td>\n",
       "      <td>Section 3, Question 1 of H-1B Supplement. Type...</td>\n",
       "    </tr>\n",
       "    <tr>\n",
       "      <th>54</th>\n",
       "      <td>S4Q1</td>\n",
       "      <td>Section 4, Question 1 of H-1B Supplement.  The...</td>\n",
       "    </tr>\n",
       "    <tr>\n",
       "      <th>55</th>\n",
       "      <td>T_U_VAWA_FLAG</td>\n",
       "      <td>VAWA indicator,  nonblank value indicates reco...</td>\n",
       "    </tr>\n",
       "    <tr>\n",
       "      <th>40</th>\n",
       "      <td>WAGE_AMT</td>\n",
       "      <td>Wage amount</td>\n",
       "    </tr>\n",
       "    <tr>\n",
       "      <th>41</th>\n",
       "      <td>WAGE_UNIT</td>\n",
       "      <td>Wage unit</td>\n",
       "    </tr>\n",
       "    <tr>\n",
       "      <th>36</th>\n",
       "      <td>WORKSITE_CITY</td>\n",
       "      <td>Worksite city</td>\n",
       "    </tr>\n",
       "    <tr>\n",
       "      <th>37</th>\n",
       "      <td>WORKSITE_STATE</td>\n",
       "      <td>Worksite state</td>\n",
       "    </tr>\n",
       "    <tr>\n",
       "      <th>35</th>\n",
       "      <td>WORKSITE_STREET</td>\n",
       "      <td>Worksite street address</td>\n",
       "    </tr>\n",
       "    <tr>\n",
       "      <th>38</th>\n",
       "      <td>WORKSITE_ZIP</td>\n",
       "      <td>Worksite zip code</td>\n",
       "    </tr>\n",
       "    <tr>\n",
       "      <th>12</th>\n",
       "      <td>agent_first_name</td>\n",
       "      <td>First name of registered agent</td>\n",
       "    </tr>\n",
       "    <tr>\n",
       "      <th>13</th>\n",
       "      <td>agent_last_name</td>\n",
       "      <td>Last name of registered agent</td>\n",
       "    </tr>\n",
       "    <tr>\n",
       "      <th>0</th>\n",
       "      <td>bcn</td>\n",
       "      <td>Beneficiary confirmation number. Unique ID for...</td>\n",
       "    </tr>\n",
       "    <tr>\n",
       "      <th>3</th>\n",
       "      <td>ben_date_of_birth</td>\n",
       "      <td>Beneficiary's date of birth</td>\n",
       "    </tr>\n",
       "    <tr>\n",
       "      <th>16</th>\n",
       "      <td>ben_multi_reg_ind</td>\n",
       "      <td>Indicator of multiple registrations for benefi...</td>\n",
       "    </tr>\n",
       "    <tr>\n",
       "      <th>4</th>\n",
       "      <td>ben_year_of_birth</td>\n",
       "      <td>Beneficiary's year of birth</td>\n",
       "    </tr>\n",
       "    <tr>\n",
       "      <th>9</th>\n",
       "      <td>city</td>\n",
       "      <td>Employer's city</td>\n",
       "    </tr>\n",
       "    <tr>\n",
       "      <th>1</th>\n",
       "      <td>country_of_birth</td>\n",
       "      <td>Beneficiary's country of birth</td>\n",
       "    </tr>\n",
       "    <tr>\n",
       "      <th>2</th>\n",
       "      <td>country_of_nationality</td>\n",
       "      <td>Beneficiary's country of nationality</td>\n",
       "    </tr>\n",
       "    <tr>\n",
       "      <th>6</th>\n",
       "      <td>employer_name</td>\n",
       "      <td>Employer name for registration</td>\n",
       "    </tr>\n",
       "    <tr>\n",
       "      <th>5</th>\n",
       "      <td>gender</td>\n",
       "      <td>Beneficiary's gender</td>\n",
       "    </tr>\n",
       "    <tr>\n",
       "      <th>21</th>\n",
       "      <td>i129_employer_name</td>\n",
       "      <td>Employer's name provided on I-129 petition</td>\n",
       "    </tr>\n",
       "    <tr>\n",
       "      <th>14</th>\n",
       "      <td>lottery_year</td>\n",
       "      <td>Lottery year of registration</td>\n",
       "    </tr>\n",
       "    <tr>\n",
       "      <th>8</th>\n",
       "      <td>mail_addr</td>\n",
       "      <td>Employer's mailing address</td>\n",
       "    </tr>\n",
       "    <tr>\n",
       "      <th>10</th>\n",
       "      <td>state</td>\n",
       "      <td>Employer's state</td>\n",
       "    </tr>\n",
       "    <tr>\n",
       "      <th>15</th>\n",
       "      <td>status_type</td>\n",
       "      <td>Status of the registration. \"Selected\" means t...</td>\n",
       "    </tr>\n",
       "    <tr>\n",
       "      <th>11</th>\n",
       "      <td>zip</td>\n",
       "      <td>Employer's zip code</td>\n",
       "    </tr>\n",
       "  </tbody>\n",
       "</table>\n",
       "</div>"
      ],
      "text/plain": [
       "                      Column  \\\n",
       "27  BASIS_FOR_CLASSIFICATION   \n",
       "50             BEN_COMP_PAID   \n",
       "31      BEN_COUNTRY_OF_BIRTH   \n",
       "32         BEN_CURRENT_CLASS   \n",
       "47        BEN_EDUCATION_CODE   \n",
       "49       BEN_PFIELD_OF_STUDY   \n",
       "30                   BEN_SEX   \n",
       "34       DOL_ETA_CASE_NUMBER   \n",
       "51                  DOT_CODE   \n",
       "48       ED_LEVEL_DEFINITION   \n",
       "7                       FEIN   \n",
       "19            FIRST_DECISION   \n",
       "39             FULL_TIME_IND   \n",
       "33                 JOB_TITLE   \n",
       "52                NAICS_CODE   \n",
       "29   NUMBER_OF_BENEFICIARIES   \n",
       "44          NUM_OF_EMP_IN_US   \n",
       "23                  PET_CITY   \n",
       "24                 PET_STATE   \n",
       "22                PET_STREET   \n",
       "25                   PET_ZIP   \n",
       "17            RECEIPT_NUMBER   \n",
       "28          REQUESTED_ACTION   \n",
       "26           REQUESTED_CLASS   \n",
       "45                     S1Q1A   \n",
       "46                     S1Q1B   \n",
       "53                      S3Q1   \n",
       "54                      S4Q1   \n",
       "55             T_U_VAWA_FLAG   \n",
       "40                  WAGE_AMT   \n",
       "41                 WAGE_UNIT   \n",
       "36             WORKSITE_CITY   \n",
       "37            WORKSITE_STATE   \n",
       "35           WORKSITE_STREET   \n",
       "38              WORKSITE_ZIP   \n",
       "12          agent_first_name   \n",
       "13           agent_last_name   \n",
       "0                        bcn   \n",
       "3          ben_date_of_birth   \n",
       "16         ben_multi_reg_ind   \n",
       "4          ben_year_of_birth   \n",
       "9                       city   \n",
       "1           country_of_birth   \n",
       "2     country_of_nationality   \n",
       "6              employer_name   \n",
       "5                     gender   \n",
       "21        i129_employer_name   \n",
       "14              lottery_year   \n",
       "8                  mail_addr   \n",
       "10                     state   \n",
       "15               status_type   \n",
       "11                       zip   \n",
       "\n",
       "                                          Description  \n",
       "27  Basis for Classification, as provided by the p...  \n",
       "50                 Beneficiary's rate of pay per year  \n",
       "31                     Beneficiary's country of birth  \n",
       "32               Beneficiary's current classification  \n",
       "47                       Beneficiary's education code  \n",
       "49                       Beneficiary's field of study  \n",
       "30                               Beneficiary's gender  \n",
       "34            Unique identifier for the DOL ETA Case.  \n",
       "51  Beneficiary's job code\\nRefer to descriptions ...  \n",
       "48  Beneficiary's education definition (descript t...  \n",
       "7                               Employer's tax number  \n",
       "19                         First decision of petition  \n",
       "39                       Indicator for full time role  \n",
       "33                            Beneficiary's job title  \n",
       "52  Description of NAICS Code. See code reference ...  \n",
       "29         Total number of beneficiaries for petition  \n",
       "44   Number of employees in the US for the petitioner  \n",
       "23                                  Petitioner's city  \n",
       "24                                 Petitioner's state  \n",
       "22                        Petitioner's street address  \n",
       "25                              Petitioner's zip code  \n",
       "17            Unique number assigned to the petition.  \n",
       "28  Requested Action, as provided by the petitione...  \n",
       "26                    Requested class for beneficiary  \n",
       "45  Section 1, Question 1A of H-1B Supplement. Is ...  \n",
       "46  Section 1, Question 1B of H-1B Supplement. Has...  \n",
       "53  Section 3, Question 1 of H-1B Supplement. Type...  \n",
       "54  Section 4, Question 1 of H-1B Supplement.  The...  \n",
       "55  VAWA indicator,  nonblank value indicates reco...  \n",
       "40                                        Wage amount  \n",
       "41                                          Wage unit  \n",
       "36                                      Worksite city  \n",
       "37                                     Worksite state  \n",
       "35                            Worksite street address  \n",
       "38                                  Worksite zip code  \n",
       "12                     First name of registered agent  \n",
       "13                      Last name of registered agent  \n",
       "0   Beneficiary confirmation number. Unique ID for...  \n",
       "3                         Beneficiary's date of birth  \n",
       "16  Indicator of multiple registrations for benefi...  \n",
       "4                         Beneficiary's year of birth  \n",
       "9                                     Employer's city  \n",
       "1                      Beneficiary's country of birth  \n",
       "2                Beneficiary's country of nationality  \n",
       "6                      Employer name for registration  \n",
       "5                                Beneficiary's gender  \n",
       "21         Employer's name provided on I-129 petition  \n",
       "14                       Lottery year of registration  \n",
       "8                          Employer's mailing address  \n",
       "10                                   Employer's state  \n",
       "15  Status of the registration. \"Selected\" means t...  \n",
       "11                                Employer's zip code  "
      ]
     },
     "execution_count": 94,
     "metadata": {},
     "output_type": "execute_result"
    }
   ],
   "source": [
    "data_dict = pd.read_excel('preprocessed_data/TRK_13139_I129_H1B_Registrations_FY21_FY24_FOIA_FIN.xlsx', sheet_name = 'Data Dictionary')\n",
    "\n",
    "# Check difference in shape between original columns listed in data dict and columns that exist in data dict and actual dataset\n",
    "print(data_dict.loc[:55, :].shape, data_dict.loc[:55, :][lambda df: df['Column'].isin(cols_2021)].shape)\n",
    "\n",
    "# Set differences between data dict columns and data dict columns existing in H1B dataset\n",
    "print(f\"Data dictionary columns that don't exist in H1B dataset: {set(data_dict.loc[:55, :]['Column']) - set(data_dict.loc[:55, :][lambda df: df['Column'].isin(cols_2021)]['Column'])}\")\n",
    "print(f\"H1B Dataset columns that do not exist in data dictionary: {set(df_2021.columns) - set(data_dict.loc[:55, :]['Column'])}\")\n",
    "print()\n",
    "# Print out the columns that do not exist in data dictionary:\n",
    "print(\"H1B Dataset columns that do not exist in data dictionary:\")\n",
    "for col in cols_2021:\n",
    "    if col not in np.array(data_dict.loc[:55, :]['Column']):\n",
    "        print(f\"    {col}\")\n",
    "\n",
    "# Seems like that they do exist but data dict cols are uppercase and dataset cols are lowercase.\n",
    "data_dict.loc[:55, :][lambda df: df['Column'].isin(cols_2021)].sort_values(by = 'Column')"
   ]
  },
  {
   "cell_type": "code",
   "execution_count": 95,
   "metadata": {},
   "outputs": [
    {
     "name": "stdout",
     "output_type": "stream",
     "text": [
      "(1): bcn: Beneficiary confirmation number. Unique ID for each registration submitted\n",
      "(2): country_of_birth: Beneficiary's country of birth\n",
      "(3): country_of_nationality: Beneficiary's country of nationality\n",
      "(4): ben_date_of_birth: Beneficiary's date of birth\n",
      "(5): ben_year_of_birth: Beneficiary's year of birth\n",
      "(6): gender: Beneficiary's gender\n",
      "(7): employer_name: Employer name for registration\n",
      "(8): FEIN: Employer's tax number\n",
      "(9): mail_addr: Employer's mailing address\n",
      "(10): city: Employer's city\n",
      "(11): state: Employer's state\n",
      "(12): zip: Employer's zip code\n",
      "(13): agent_first_name: First name of registered agent\n",
      "(14): agent_last_name: Last name of registered agent\n",
      "(15): lottery_year: Lottery year of registration\n",
      "(16): status_type: Status of the registration. \"Selected\" means the registration was selected in the lottery. \"Created\" or \"Eligible\" means the registration was not selected in the lottery.\n",
      "(17): ben_multi_reg_ind: Indicator of multiple registrations for beneficiary (a value of 1 represents a registration for a beneficiary who has multiple registrations with different employers)\n",
      "(18): RECEIPT_NUMBER: Unique number assigned to the petition.\n",
      "(19): FIRST_DECISION: First decision of petition\n",
      "(20): i129_employer_name: Employer's name provided on I-129 petition\n",
      "(21): PET_STREET: Petitioner's street address\n",
      "(22): PET_CITY: Petitioner's city\n",
      "(23): PET_STATE: Petitioner's state\n",
      "(24): PET_ZIP: Petitioner's zip code\n",
      "(25): REQUESTED_CLASS: Requested class for beneficiary\n",
      "(26): BASIS_FOR_CLASSIFICATION: Basis for Classification, as provided by the petitioner in Part 2, Question 2 of the Form I-129. See lookup table below.\n",
      "(27): REQUESTED_ACTION: Requested Action, as provided by the petitioner in Part 2 Question 4 of the Form I-129. See lookup table below.\n",
      "(28): NUMBER_OF_BENEFICIARIES: Total number of beneficiaries for petition\n",
      "(29): BEN_SEX: Beneficiary's gender\n",
      "(30): BEN_COUNTRY_OF_BIRTH: Beneficiary's country of birth\n",
      "(31): BEN_CURRENT_CLASS: Beneficiary's current classification\n",
      "(32): JOB_TITLE: Beneficiary's job title\n",
      "(33): DOL_ETA_CASE_NUMBER: Unique identifier for the DOL ETA Case.\n",
      "(34): WORKSITE_STREET: Worksite street address\n",
      "(35): WORKSITE_CITY: Worksite city\n",
      "(36): WORKSITE_STATE: Worksite state\n",
      "(37): WORKSITE_ZIP: Worksite zip code\n",
      "(38): FULL_TIME_IND: Indicator for full time role\n",
      "(39): WAGE_AMT: Wage amount\n",
      "(40): WAGE_UNIT: Wage unit\n",
      "(41): NUM_OF_EMP_IN_US: Number of employees in the US for the petitioner\n",
      "(42): S1Q1A: Section 1, Question 1A of H-1B Supplement. Is the petitioner an H-1B dependent employer?\n",
      "(43): S1Q1B: Section 1, Question 1B of H-1B Supplement. Has the petitioner ever been found to be a willful violator?\n",
      "(44): BEN_EDUCATION_CODE: Beneficiary's education code\n",
      "(45): ED_LEVEL_DEFINITION: Beneficiary's education definition (descript the Education Code corresponds to)\n",
      "(46): BEN_PFIELD_OF_STUDY: Beneficiary's field of study\n",
      "(47): BEN_COMP_PAID: Beneficiary's rate of pay per year\n",
      "(48): DOT_CODE: Beneficiary's job code\n",
      "Refer to descriptions provided on \"I-129 H1B Job Codes\" tab for Class Preferences= H1B, 1B1, 1B2, 1B3, 1B4, and HSC. \n",
      "(49): NAICS_CODE: Description of NAICS Code. See code reference at https://www.naics.com/search/\n",
      "(50): S3Q1: Section 3, Question 1 of H-1B Supplement. Type of H-1B petition you are filing.\n",
      "(51): S4Q1: Section 4, Question 1 of H-1B Supplement.  The beneficiary of this petition will be assigned to work at an off-site location for all or part of the\n",
      "period for which H-1B classification sought.\n",
      "(52): T_U_VAWA_FLAG: VAWA indicator,  nonblank value indicates records in protected population under 1367.\n"
     ]
    }
   ],
   "source": [
    "col_names = data_dict.loc[:55, :][lambda df: df['Column'].isin(cols_2021)].to_dict(orient = 'list')['Column']\n",
    "descriptions = data_dict.loc[:55, :][lambda df: df['Column'].isin(cols_2021)].to_dict(orient = 'list')['Description']\n",
    "\n",
    "for i in range(len(col_names)):\n",
    "    print(f\"({i+1}): {col_names[i]}: {descriptions[i]}\" )"
   ]
  },
  {
   "cell_type": "markdown",
   "metadata": {},
   "source": [
    "# What is the difference between multi and single registrations in 2024?"
   ]
  },
  {
   "cell_type": "markdown",
   "metadata": {},
   "source": [
    "# Q: Which factors contribute most to the approval / denial of a H1B petition once it has been selected from the lottery?\n",
    "Applicants are only approved or denied from an H1B petition after they were selected from the lottery. Therefore we are only interested in observations that have the **\"Selected\"** status type."
   ]
  },
  {
   "cell_type": "code",
   "execution_count": 96,
   "metadata": {},
   "outputs": [
    {
     "data": {
      "text/plain": [
       "((124368, 56), (131896, 56), (127563, 56), (103060, 56), (85304, 56))"
      ]
     },
     "execution_count": 96,
     "metadata": {},
     "output_type": "execute_result"
    }
   ],
   "source": [
    "selected_status_condition = lambda df: df['status_type'] == 'SELECTED'\n",
    "\n",
    "df_2021 = df_2021[selected_status_condition]\n",
    "df_2022 = df_2022[selected_status_condition]\n",
    "df_2023 = df_2023[selected_status_condition]\n",
    "df_2024_multi = df_2024_multi[selected_status_condition]\n",
    "df_2024_single = df_2024_single[selected_status_condition]\n",
    "\n",
    "# Print new shapes of each dataset after filtering\n",
    "df_2021.shape, df_2022.shape, df_2023.shape, df_2024_multi.shape, df_2024_single.shape"
   ]
  },
  {
   "cell_type": "markdown",
   "metadata": {},
   "source": [
    "# Combine H1B datasets from 2021-2024"
   ]
  },
  {
   "cell_type": "code",
   "execution_count": 97,
   "metadata": {},
   "outputs": [],
   "source": [
    "entire_df = pd.concat([df_2021, df_2022, df_2023, df_2024_multi, df_2024_single]).reset_index(drop = True)\n",
    "\n",
    "# Cast lottery year column as int, and employer names to uppercase\n",
    "entire_df['lottery_year'] = entire_df['lottery_year'].astype(int)\n",
    "entire_df['employer_name'] = entire_df['employer_name'].str.upper()"
   ]
  },
  {
   "cell_type": "markdown",
   "metadata": {},
   "source": [
    "# Feature preprocessing - since the following processes are deterministic and does not depend on dataset-specific statistics we can perform this on the entire dataset instead of transforming each individual split based on the attributes of the training data"
   ]
  },
  {
   "cell_type": "markdown",
   "metadata": {},
   "source": [
    "### Calculate the beneficiary's age from rec_date and their ben_year_of_birth"
   ]
  },
  {
   "cell_type": "code",
   "execution_count": 103,
   "metadata": {},
   "outputs": [],
   "source": [
    "# Fill in missing rec_dates with the lottery year\n",
    "entire_df['rec_date'] = (entire_df['rec_date']\n",
    "    .fillna(entire_df['lottery_year'])\n",
    "    .astype(str).str.slice(-4)\n",
    "    .astype(int)\n",
    ")\n",
    "\n",
    "# Calculate the beneficiary's age\n",
    "entire_df['ben_age_in_years'] = (\n",
    "    entire_df['rec_date'] \n",
    "    - entire_df['ben_year_of_birth'].astype(int)\n",
    ")"
   ]
  },
  {
   "cell_type": "markdown",
   "metadata": {},
   "source": [
    "### Map nationalities to their world regions, and worksite states to US geographical regions."
   ]
  },
  {
   "cell_type": "code",
   "execution_count": 104,
   "metadata": {},
   "outputs": [
    {
     "data": {
      "text/plain": [
       "(array(['North America', 'Asia', 'Africa', 'Europe', 'South America',\n",
       "        'Oceania', 'Unknown'], dtype=object),\n",
       " array(['West', 'Northeast', 'South', 'Midwest', 'US Territory', 'Unknown'],\n",
       "       dtype=object))"
      ]
     },
     "execution_count": 104,
     "metadata": {},
     "output_type": "execute_result"
    }
   ],
   "source": [
    "def map_countries_to_world_regions(data: pd.DataFrame) -> pd.DataFrame:\n",
    "    \"\"\"\n",
    "    Maps country codes from the 'country_of_nationality' column to a world region such as North America, South America, etc.\n",
    "    \"\"\"\n",
    "    country_region_mapping = {\n",
    "        \"CAN\": \"North America\", \"MEX\": \"North America\", \"USA\": \"North America\", \"BHS\": \"North America\", \"BRB\": \"North America\", \n",
    "        \"BLZ\": \"North America\", \"CUB\": \"North America\", \"DOM\": \"North America\", \"GRD\": \"North America\", \"HTI\": \"North America\", \n",
    "        \"HND\": \"North America\", \"JAM\": \"North America\", \"KNA\": \"North America\", \"LCA\": \"North America\", \"VCT\": \"North America\", \n",
    "        \"TTO\": \"North America\", \"PAN\": \"North America\", \"SLV\": \"North America\", \"NIC\": \"North America\", \"CRI\": \"North America\", \n",
    "        \"GTM\": \"North America\", \"ATG\": \"North America\", \"DMA\": \"North America\",\n",
    "        \n",
    "        \"ARG\": \"South America\", \"BOL\": \"South America\", \"BRA\": \"South America\", \"CHL\": \"South America\", \"COL\": \"South America\", \n",
    "        \"ECU\": \"South America\", \"GUY\": \"South America\", \"PRY\": \"South America\", \"PER\": \"South America\", \"SUR\": \"South America\", \n",
    "        \"URY\": \"South America\", \"VEN\": \"South America\", \n",
    "\n",
    "        \"ALB\": \"Europe\", \"AND\": \"Europe\", \"AUT\": \"Europe\", \"BLR\": \"Europe\", \"BEL\": \"Europe\", \"BIH\": \"Europe\", \"BGR\": \"Europe\", \n",
    "        \"HRV\": \"Europe\", \"CYP\": \"Europe\", \"CZE\": \"Europe\", \"DNK\": \"Europe\", \"EST\": \"Europe\", \"FIN\": \"Europe\", \"FRA\": \"Europe\", \n",
    "        \"DEU\": \"Europe\", \"GRC\": \"Europe\", \"HUN\": \"Europe\", \"ISL\": \"Europe\", \"IRL\": \"Europe\", \"ITA\": \"Europe\", \"XKS\": \"Europe\", \n",
    "        \"LVA\": \"Europe\", \"LIE\": \"Europe\", \"LTU\": \"Europe\", \"LUX\": \"Europe\", \"MLT\": \"Europe\", \"MDA\": \"Europe\", \"MCO\": \"Europe\", \n",
    "        \"MNE\": \"Europe\", \"NLD\": \"Europe\", \"MKD\": \"Europe\", \"NOR\": \"Europe\", \"POL\": \"Europe\", \"PRT\": \"Europe\", \"ROU\": \"Europe\", \n",
    "        \"RUS\": \"Europe\", \"SRB\": \"Europe\", \"SVK\": \"Europe\", \"SVN\": \"Europe\", \"ESP\": \"Europe\", \"SWE\": \"Europe\", \"CHE\": \"Europe\", \n",
    "        \"UKR\": \"Europe\", \"GBR\": \"Europe\", \"TUR\": \"Europe\", \"XKX\": \"Europe\",\n",
    "\n",
    "        \"DZA\": \"Africa\", \"AGO\": \"Africa\", \"BEN\": \"Africa\", \"BWA\": \"Africa\", \"BFA\": \"Africa\", \"BDI\": \"Africa\", \"CMR\": \"Africa\", \n",
    "        \"CPV\": \"Africa\", \"CAF\": \"Africa\", \"TCD\": \"Africa\", \"CIV\": \"Africa\", \"COD\": \"Africa\", \"EGY\": \"Africa\", \"GNQ\": \"Africa\", \n",
    "        \"ERI\": \"Africa\", \"SWZ\": \"Africa\", \"ETH\": \"Africa\", \"GAB\": \"Africa\", \"GMB\": \"Africa\", \"GHA\": \"Africa\", \"GIN\": \"Africa\", \n",
    "        \"GNB\": \"Africa\", \"KEN\": \"Africa\", \"LSO\": \"Africa\", \"LBR\": \"Africa\", \"LBY\": \"Africa\", \"MDG\": \"Africa\", \"MWI\": \"Africa\", \n",
    "        \"MLI\": \"Africa\", \"MRT\": \"Africa\", \"MUS\": \"Africa\", \"MAR\": \"Africa\", \"MOZ\": \"Africa\", \"NAM\": \"Africa\", \"NER\": \"Africa\", \n",
    "        \"NGA\": \"Africa\", \"RWA\": \"Africa\", \"SEN\": \"Africa\", \"SYC\": \"Africa\", \"SLE\": \"Africa\", \"SOM\": \"Africa\", \"ZAF\": \"Africa\", \n",
    "        \"SSD\": \"Africa\", \"SDN\": \"Africa\", \"TZA\": \"Africa\", \"TGO\": \"Africa\", \"TUN\": \"Africa\", \"UGA\": \"Africa\", \"ZMB\": \"Africa\", \n",
    "        \"ZWE\": \"Africa\", \"COG\": \"Africa\",\n",
    "\n",
    "        \"AFG\": \"Asia\", \"ARM\": \"Asia\", \"AZE\": \"Asia\", \"BHR\": \"Asia\", \"BGD\": \"Asia\", \"BTN\": \"Asia\", \"BRN\": \"Asia\", \"KHM\": \"Asia\", \n",
    "        \"CHN\": \"Asia\", \"GEO\": \"Asia\", \"HKG\": \"Asia\", \"IND\": \"Asia\", \"IDN\": \"Asia\", \"IRN\": \"Asia\", \"IRQ\": \"Asia\", \"ISR\": \"Asia\", \n",
    "        \"JPN\": \"Asia\", \"JOR\": \"Asia\", \"KAZ\": \"Asia\", \"KWT\": \"Asia\", \"KGZ\": \"Asia\", \"LAO\": \"Asia\", \"LBN\": \"Asia\", \"MAC\": \"Asia\", \n",
    "        \"MYS\": \"Asia\", \"MNG\": \"Asia\", \"MMR\": \"Asia\", \"NPL\": \"Asia\", \"PRK\": \"Asia\", \"OMN\": \"Asia\", \"PAK\": \"Asia\", \"PSE\": \"Asia\", \n",
    "        \"PHL\": \"Asia\", \"QAT\": \"Asia\", \"SAU\": \"Asia\", \"SGP\": \"Asia\", \"KOR\": \"Asia\", \"LKA\": \"Asia\", \"SYR\": \"Asia\", \"TWN\": \"Asia\", \n",
    "        \"TJK\": \"Asia\", \"THA\": \"Asia\", \"TKM\": \"Asia\", \"ARE\": \"Asia\", \"UZB\": \"Asia\", \"VNM\": \"Asia\", \"YEM\": \"Asia\", \n",
    "\n",
    "        \"AUS\": \"Oceania\", \"FJI\": \"Oceania\", \"NZL\": \"Oceania\", \"PNG\": \"Oceania\", \"WSM\": \"Oceania\", \"TUV\": \"Oceania\", \n",
    "\n",
    "        \"XXA\": \"Unknown\", \"AX1\": \"Unknown\", \"undefined\": \"Unknown\"\n",
    "    }\n",
    "\n",
    "    result_df = data.copy()\n",
    "    result_df['world_region_nationality'] = result_df['country_of_nationality'].map(country_region_mapping)\n",
    "    # result_df = result_df.drop(columns = 'country_of_nationality')\n",
    "    return result_df\n",
    "\n",
    "def map_states_to_geographical_regions(data: pd.DataFrame) -> pd.DataFrame:\n",
    "    \"\"\"\n",
    "    Maps US state/territory abbreviations from the 'worksite_state' column to a US geographical region such as Northeast, Midwest, etc.\n",
    "    \"\"\"\n",
    "    state_region_mapping = {\n",
    "        # **Northeast**\n",
    "        'CT': 'Northeast', 'ME': 'Northeast', 'MA': 'Northeast', 'NH': 'Northeast',\n",
    "        'RI': 'Northeast', 'VT': 'Northeast', 'NJ': 'Northeast', 'NY': 'Northeast',\n",
    "        'PA': 'Northeast',\n",
    "\n",
    "        # **Midwest**\n",
    "        'IL': 'Midwest', 'IN': 'Midwest', 'MI': 'Midwest', 'OH': 'Midwest', 'WI': 'Midwest',\n",
    "        'IA': 'Midwest', 'KS': 'Midwest', 'MN': 'Midwest', 'MO': 'Midwest', 'NE': 'Midwest',\n",
    "        'ND': 'Midwest', 'SD': 'Midwest',\n",
    "\n",
    "        # **South**\n",
    "        'DE': 'South', 'FL': 'South', 'GA': 'South', 'MD': 'South', 'NC': 'South',\n",
    "        'SC': 'South', 'VA': 'South', 'DC': 'South', 'WV': 'South', 'AL': 'South',\n",
    "        'KY': 'South', 'MS': 'South', 'TN': 'South', 'TS': 'South', 'AR': 'South', \n",
    "        'LA': 'South', 'OK': 'South', 'TX': 'South',\n",
    "\n",
    "        # **West**\n",
    "        'AZ': 'West', 'CO': 'West', 'ID': 'West', 'MT': 'West', 'NV': 'West', 'NM': 'West',\n",
    "        'UT': 'West', 'WY': 'West', 'AK': 'West', 'CA': 'West', 'HI': 'West', 'OR': 'West',\n",
    "        'WA': 'West',\n",
    "\n",
    "        # **US Territories (Grouped Separately)**\n",
    "        'PR': 'US Territory', 'GU': 'US Territory', 'VI': 'US Territory', 'AS': 'US Territory',\n",
    "\n",
    "        # **Unknown**\n",
    "        'XX': \"Unknown\" \n",
    "    }\n",
    "\n",
    "    result_df = data.copy()\n",
    "\n",
    "    # Replace missing worksite states with the corresponding value from the employer's state.\n",
    "    result_df['WORKSITE_STATE'] = entire_df['WORKSITE_STATE'].fillna(entire_df['state'])\n",
    "\n",
    "    # Map the worksite states to their US region\n",
    "    result_df['WORKSITE_REGION'] = result_df['WORKSITE_STATE'].map(state_region_mapping)\n",
    "    result_df = result_df.drop(columns = 'WORKSITE_STATE')\n",
    "    return result_df\n",
    "\n",
    "entire_df = map_states_to_geographical_regions(map_countries_to_world_regions(entire_df))\n",
    "entire_df['world_region_nationality'].unique(), entire_df['WORKSITE_REGION'].unique()"
   ]
  },
  {
   "cell_type": "markdown",
   "metadata": {},
   "source": [
    "### Standardize all wage amounts to annual."
   ]
  },
  {
   "cell_type": "code",
   "execution_count": 105,
   "metadata": {},
   "outputs": [],
   "source": [
    "def standardize_wage_to_annual(df):\n",
    "    # Create a copy of the DataFrame to avoid modifying the original\n",
    "    df_copy = df.copy()\n",
    "\n",
    "    # Cast as float, fill missing wage values with compensation paid\n",
    "    df_copy['WAGE_AMT'] = (df_copy['WAGE_AMT']\n",
    "        .fillna(df_copy['BEN_COMP_PAID'])\n",
    "        .astype(float)\n",
    "        # .dropna(subset = 'WAGE_AMT')\n",
    "    )\n",
    "\n",
    "    # Define the multiplication factors for each unit\n",
    "    wage_multipliers = {\n",
    "        \"HOUR\": 40 * 50,  # 40 hours/week * 50 weeks/year\n",
    "        \"MONTH\": 12,      # 12 months/year\n",
    "        \"WEEK\": 50        # 50 weeks/year\n",
    "    }\n",
    "\n",
    "    # Apply the multipliers based on the WAGE_UNIT\n",
    "    df_copy['WAGE_AMT_ANNUAL'] = df_copy.apply(\n",
    "        lambda row: row['WAGE_AMT'] * wage_multipliers.get(row['WAGE_UNIT'], 1) \n",
    "        if row['WAGE_UNIT'] in wage_multipliers else row['WAGE_AMT'], axis=1\n",
    "    ).astype(float)\n",
    "\n",
    "    \n",
    "    # Impute missing annual wages with median wage by lottery year\n",
    "    if df_copy['WAGE_AMT_ANNUAL'].isna().sum():\n",
    "        median_wages_by_lottery_year = df_copy.groupby('lottery_year')['WAGE_AMT_ANNUAL'].transform('median')\n",
    "        df_copy['WAGE_AMT_ANNUAL'] = df_copy['WAGE_AMT_ANNUAL'].fillna(median_wages_by_lottery_year)\n",
    "\n",
    "    return df_copy\n",
    "\n",
    "entire_df = standardize_wage_to_annual(entire_df)\n",
    "\n",
    "# Ensure that there are no missing annual wage values\n",
    "assert(entire_df['WAGE_AMT_ANNUAL'].isna().sum() == 0)"
   ]
  },
  {
   "cell_type": "markdown",
   "metadata": {},
   "source": [
    "## Split data into train/val/test splits via time-based splitting - (2021-2023 will have training and validation while 2024 will be exclusively test split)"
   ]
  },
  {
   "cell_type": "code",
   "execution_count": 106,
   "metadata": {},
   "outputs": [
    {
     "name": "stdout",
     "output_type": "stream",
     "text": [
      "Training Set Size: 257164\n",
      "Validation Set Size: 126663\n",
      "Test Set Size: 188364\n"
     ]
    }
   ],
   "source": [
    "# Filter the data for the splits based on lottery_year\n",
    "train_and_val_data = entire_df[entire_df['lottery_year'].isin([2021, 2022, 2023])]\n",
    "test_data = entire_df[entire_df['lottery_year'] == 2024]\n",
    "\n",
    "# Split train and validation from the filtered train_and_val_data\n",
    "X_train_and_val, y_train_and_val = train_and_val_data.drop(columns=\"FIRST_DECISION\"), train_and_val_data['FIRST_DECISION']\n",
    "X_test, y_test = test_data.drop(columns=\"FIRST_DECISION\"), test_data['FIRST_DECISION']\n",
    "\n",
    "# Make validation split 1/3rd the size of train split\n",
    "X_train, X_val, y_train, y_val = train_test_split(\n",
    "    X_train_and_val, y_train_and_val, test_size=0.33, random_state=0  # 25% for validation\n",
    ")\n",
    "\n",
    "# Output sizes of splits\n",
    "print(\"Training Set Size:\", X_train.shape[0])\n",
    "print(\"Validation Set Size:\", X_val.shape[0])\n",
    "print(\"Test Set Size:\", X_test.shape[0])"
   ]
  },
  {
   "cell_type": "markdown",
   "metadata": {},
   "source": [
    "# 4 features to transform\n",
    "1. WAGE_AMT\n",
    "2. ~~JOB_TITLE~~ NAICS_CODE\n",
    "3. ED_LEVEL_DEFINITION\n",
    "4. ben_age_in_years"
   ]
  },
  {
   "cell_type": "markdown",
   "metadata": {},
   "source": [
    "### 1. WAGE_AMT - use robust scaler to handle annual wage outliers"
   ]
  },
  {
   "cell_type": "code",
   "execution_count": 107,
   "metadata": {},
   "outputs": [],
   "source": [
    "def robust_scale_annual_wage(\n",
    "    X_train: pd.DataFrame, \n",
    "    X_val: pd.DataFrame, \n",
    "    X_test: pd.DataFrame\n",
    ") -> tuple[pd.DataFrame, pd.DataFrame, pd.DataFrame]:\n",
    "    '''Fit a RobustScaler on annual wage training data and transform the feature across all data splits.'''\n",
    "\n",
    "    X_train_copy = X_train.copy()\n",
    "    X_val_copy = X_val.copy()                                                \n",
    "    X_test_copy = X_test.copy()\n",
    "\n",
    "    scaler = RobustScaler()\n",
    "    X_train_copy[['WAGE_AMT_ANNUAL']] = scaler.fit_transform(X_train_copy[['WAGE_AMT_ANNUAL']])\n",
    "    X_val_copy[['WAGE_AMT_ANNUAL']] = scaler.transform(X_val_copy[['WAGE_AMT_ANNUAL']])\n",
    "    X_test_copy[['WAGE_AMT_ANNUAL']] = scaler.transform(X_test_copy[['WAGE_AMT_ANNUAL']])\n",
    "\n",
    "    return X_train_copy, X_val_copy, X_test_copy\n",
    "\n",
    "X_train, X_val, X_test = robust_scale_annual_wage(X_train, X_val, X_test)"
   ]
  },
  {
   "cell_type": "markdown",
   "metadata": {},
   "source": [
    "### 2. ~~JOB_TITLE~~ NAICS_CODE - Impute missing NAICS codes with existing employer name to NAICS mapping from dataset"
   ]
  },
  {
   "cell_type": "code",
   "execution_count": 108,
   "metadata": {},
   "outputs": [
    {
     "name": "stdout",
     "output_type": "stream",
     "text": [
      "Before imputation, the # of missing NAICS codes in the training data is: 67099\n",
      "After imputation, the # of missing NAICS codes in the training data is: 7323\n",
      "\n",
      "Before imputation, the # of missing NAICS codes in the training data is: 32839\n",
      "After imputation, the # of missing NAICS codes in the validation data is: 3511\n",
      "\n",
      "Before imputation, the # of missing NAICS codes in the training data is: 96172\n",
      "After imputation, the # of missing NAICS codes in the test data is: 44691\n",
      "\n"
     ]
    }
   ],
   "source": [
    "# Create the mapping only on training data to avoid data leakage - we do not want training data to \"know\" test set information during training.\n",
    "employer_name_to_naics_code_mapping = (X_train\n",
    "    .dropna(subset=['NAICS_CODE'])\n",
    "    .assign(NAICS_CODE=lambda df: df['NAICS_CODE'].astype(int))[['employer_name', 'NAICS_CODE']]\n",
    "    .drop_duplicates()\n",
    "    .set_index('employer_name')['NAICS_CODE']\n",
    "    .to_dict()\n",
    ")\n",
    "\n",
    "def impute_naics(df, split_name, mapping = employer_name_to_naics_code_mapping):\n",
    "    '''\n",
    "    Impute missing NAICS codes in each data split (df) given the naics mapping.\n",
    "    '''\n",
    "    df_copy = df.copy()\n",
    "    print(f\"Before imputation, the # of missing NAICS codes in the training data is: {df_copy['NAICS_CODE'].isna().sum()}\")\n",
    "\n",
    "    df_copy['NAICS_CODE'] = df_copy['NAICS_CODE'].fillna(\n",
    "        df_copy['employer_name'].map(mapping)\n",
    "    )\n",
    "\n",
    "    print(f\"After imputation, the # of missing NAICS codes in the {split_name} data is: {df_copy['NAICS_CODE'].isna().sum()}\\n\")\n",
    "\n",
    "    return df_copy['NAICS_CODE']\n",
    "\n",
    "\n",
    "X_train['NAICS_CODE'] = impute_naics(X_train, split_name = 'training')\n",
    "X_val['NAICS_CODE'] = impute_naics(X_val, split_name = 'validation')\n",
    "X_test['NAICS_CODE'] = impute_naics(X_test, split_name = 'test')\n"
   ]
  },
  {
   "cell_type": "markdown",
   "metadata": {},
   "source": [
    "### Impute missing NAICS Codes with 0 (Missing) and extract the first two digits from the NAICS_CODE column "
   ]
  },
  {
   "cell_type": "code",
   "execution_count": 109,
   "metadata": {},
   "outputs": [],
   "source": [
    "def preprocess_naics_codes(df: pd.DataFrame, sector_mapping: dict) -> pd.DataFrame:\n",
    "    # Impute missing codes with 0 (representing missing)\n",
    "    df_copy = df.copy()\n",
    "    df_copy['NAICS_CODE'] = df_copy['NAICS_CODE'].fillna(0)\n",
    "    \n",
    "    # Extract the first two digits from the NAICS_CODE column\n",
    "    df_copy['NAICS_FIRST_TWO_DIGITS'] = (df_copy['NAICS_CODE']\n",
    "        .astype(int)\n",
    "        .astype(str)\n",
    "        .str.slice(start=0, stop=2)\n",
    "        .astype(int)\n",
    "    )\n",
    "\n",
    "    # Map the first two digits of the NAICS codes to their descriptions\n",
    "    df_copy['NAICS_DESC'] = df_copy['NAICS_FIRST_TWO_DIGITS'].map(sector_mapping)\n",
    "    \n",
    "    return df_copy\n",
    "\n",
    "# Apply preprocessing only on each split separately\n",
    "# NAICS sector definitions taken from https://www.census.gov/programs-surveys/economic-census/year/2022/guidance/understanding-naics.html\n",
    "sector_mapping = {\n",
    "    0: \"Missing\",\n",
    "    11: \"Agriculture, Forestry, Fishing and Hunting\",\n",
    "    21: \"Mining, Quarrying, and Oil and Gas Extraction\",\n",
    "    22: \"Utilities\",\n",
    "    23: \"Construction\",\n",
    "    31: \"Manufacturing\",\n",
    "    32: \"Manufacturing\",\n",
    "    33: \"Manufacturing\",\n",
    "    42: \"Wholesale Trade\",\n",
    "    44: \"Retail Trade\",\n",
    "    45: \"Retail Trade\",\n",
    "    48: \"Transportation and Warehousing\",\n",
    "    49: \"Transportation and Warehousing\",\n",
    "    51: \"Information\",\n",
    "    52: \"Finance and Insurance\",\n",
    "    53: \"Real Estate and Rental and Leasing\",\n",
    "    54: \"Professional, Scientific, and Technical Services\",\n",
    "    55: \"Management of Companies and Enterprises\",\n",
    "    56: \"Administrative and Support and Waste Management and Remediation Services\",\n",
    "    61: \"Educational Services\",\n",
    "    62: \"Health Care and Social Assistance\",\n",
    "    71: \"Arts, Entertainment, and Recreation\",\n",
    "    72: \"Accommodation and Food Services\",\n",
    "    81: \"Other Services (except Public Administration)\",\n",
    "    92: \"Public Administration (not covered in economic census)\"\n",
    "}\n",
    "\n",
    "X_train = preprocess_naics_codes(X_train, sector_mapping)\n",
    "X_val = preprocess_naics_codes(X_val, sector_mapping)\n",
    "X_test = preprocess_naics_codes(X_test, sector_mapping)"
   ]
  },
  {
   "cell_type": "markdown",
   "metadata": {},
   "source": [
    "### 3. ED_LEVEL_DEFINITION - Impute missing values"
   ]
  },
  {
   "cell_type": "code",
   "execution_count": 110,
   "metadata": {},
   "outputs": [],
   "source": [
    "def preprocess_ed_level(df: pd.DataFrame) -> pd.DataFrame:\n",
    "    # Impute missing education levels with \"NO CODE PROVIDED OR ILLEGIBLE\"\n",
    "    df_copy = df.copy()\n",
    "    df_copy['ED_LEVEL_DEFINITION'] = df_copy['ED_LEVEL_DEFINITION'].fillna('NO CODE PROVIDED OR ILLEGIBLE')\n",
    "\n",
    "    return df_copy\n",
    "\n",
    "X_train = preprocess_ed_level(X_train)\n",
    "X_val = preprocess_ed_level(X_val)\n",
    "X_test = preprocess_ed_level(X_test)"
   ]
  },
  {
   "cell_type": "markdown",
   "metadata": {},
   "source": [
    "### 4. ben_age_in_years - Impute values <18 and >65 with the median age"
   ]
  },
  {
   "cell_type": "code",
   "execution_count": 111,
   "metadata": {},
   "outputs": [],
   "source": [
    "def impute_ben_age_in_years(\n",
    "    X_train: pd.DataFrame, \n",
    "    X_val: pd.DataFrame, \n",
    "    X_test: pd.DataFrame\n",
    ") -> tuple[pd.DataFrame, pd.DataFrame, pd.DataFrame]:\n",
    "    # Replace nonsensical ages with the median of valid ages (between 18 and 65 inclusive)\n",
    "    X_train_copy = X_train.copy()\n",
    "    X_val_copy = X_val.copy()                                                \n",
    "    X_test_copy = X_test.copy()\n",
    "\n",
    "    # Get the median of the valid ages in the training dataset\n",
    "    valid_ages_train = X_train_copy[lambda df:\n",
    "        (df['ben_age_in_years'] >= 18) & \n",
    "        (df['ben_age_in_years'] <= 65)\n",
    "    ]['ben_age_in_years']\n",
    "    median_age_train = valid_ages_train.median()\n",
    "\n",
    "    # Impute invalid ages in train, val, and test splits with the median age derived from training data\n",
    "    X_train_copy.loc[lambda df:\n",
    "        (df['ben_age_in_years'] < 18) | \n",
    "        (df['ben_age_in_years'] > 65), 'ben_age_in_years'\n",
    "    ] = median_age_train\n",
    "\n",
    "    X_val_copy.loc[lambda df:\n",
    "        (df['ben_age_in_years'] < 18) | \n",
    "        (df['ben_age_in_years'] > 65), 'ben_age_in_years'\n",
    "    ] = median_age_train\n",
    "\n",
    "    X_test_copy.loc[lambda df:\n",
    "        (df['ben_age_in_years'] < 18) | \n",
    "        (df['ben_age_in_years'] > 65), 'ben_age_in_years'\n",
    "    ] = median_age_train\n",
    "\n",
    "    return X_train_copy, X_val_copy, X_test_copy\n",
    "\n",
    "X_train, X_val, X_test = impute_ben_age_in_years(X_train, X_val, X_test)\n"
   ]
  },
  {
   "cell_type": "markdown",
   "metadata": {},
   "source": [
    "### Select subset of main features to use for ML Model\n",
    "\n",
    "**gender**: The gender of the beneficiary\n",
    "\n",
    "**world_region_nationality**: The nationality of the beneficiary by world region\n",
    "\n",
    "**WORKSITE_REGION**: The region of the worksite that the beneficiary works in by US region\n",
    "\n",
    "**WAGE_AMT_ANNUAL**: The annual wage amount offered to the beneficiary\n",
    "\n",
    "**NAICS_DESC**: (aka North American Industry Classification System). The description of the work sector the beneficiary works in. \n",
    "\n",
    "**ED_LEVEL_DEFINITION**: The education level of the beneficiary.\n",
    "\n",
    "**ben_age_in_years**: The age of the beneficiary at the time that their petition was sent.\n",
    "\n",
    "**FIRST_DECISION** (outcome Y): The first decision of the petition, which indicates whether it was approved or denied.\n"
   ]
  },
  {
   "cell_type": "code",
   "execution_count": 112,
   "metadata": {},
   "outputs": [],
   "source": [
    "main_features = [\n",
    "    'gender',\n",
    "    'world_region_nationality',\n",
    "    'WORKSITE_REGION',\n",
    "    'WAGE_AMT_ANNUAL',\n",
    "    'NAICS_DESC',\n",
    "    'ED_LEVEL_DEFINITION',\n",
    "    'ben_age_in_years'\n",
    "]\n",
    "\n",
    "X_train = X_train[main_features]\n",
    "X_val = X_val[main_features]\n",
    "X_test = X_test[main_features]"
   ]
  },
  {
   "cell_type": "markdown",
   "metadata": {},
   "source": [
    "### Encode categorical features"
   ]
  },
  {
   "cell_type": "code",
   "execution_count": 113,
   "metadata": {},
   "outputs": [],
   "source": [
    "def encode_categorical_features(train_df, val_df, test_df, features):\n",
    "    train_df_copy = train_df.copy()\n",
    "    val_df_copy = val_df.copy()\n",
    "    test_df_copy = test_df.copy()\n",
    "\n",
    "    for feature in features:\n",
    "        # Initialize and fit OneHotEncoder\n",
    "        enc = OneHotEncoder(sparse_output=False, handle_unknown='ignore')\n",
    "        enc.fit(train_df[[feature]])  # Fit on training data\n",
    "\n",
    "        # Transform each split\n",
    "        train_encoded = enc.transform(train_df[[feature]])\n",
    "        val_encoded = enc.transform(val_df[[feature]])\n",
    "        test_encoded = enc.transform(test_df[[feature]])\n",
    "\n",
    "        # Convert arrays to DataFrames\n",
    "        train_onehot = pd.DataFrame(\n",
    "            train_encoded, \n",
    "            columns=enc.get_feature_names_out([feature]), index=train_df.index\n",
    "        )\n",
    "        val_onehot = pd.DataFrame(\n",
    "            val_encoded, \n",
    "            columns=enc.get_feature_names_out([feature]), index=val_df.index\n",
    "        )\n",
    "        test_onehot = pd.DataFrame(\n",
    "            test_encoded, \n",
    "            columns=enc.get_feature_names_out([feature]), index=test_df.index\n",
    "        )\n",
    "\n",
    "        # Concatenate encoded features\n",
    "        train_df_copy = pd.concat([train_df_copy, train_onehot], axis=1)\n",
    "        val_df_copy = pd.concat([val_df_copy, val_onehot], axis=1)\n",
    "        test_df_copy = pd.concat([test_df_copy, test_onehot], axis=1)\n",
    "\n",
    "    return train_df_copy, val_df_copy, test_df_copy\n",
    "\n",
    "categorical_features = [\n",
    "    'gender', \n",
    "    'world_region_nationality', \n",
    "    'WORKSITE_REGION', \n",
    "    'NAICS_DESC', \n",
    "    'ED_LEVEL_DEFINITION'\n",
    "]\n",
    "X_train, X_val, X_test = encode_categorical_features(X_train, X_val, X_test, categorical_features)"
   ]
  },
  {
   "cell_type": "markdown",
   "metadata": {},
   "source": [
    "### Write train, val and test datasets to csv for ML modeling"
   ]
  },
  {
   "cell_type": "code",
   "execution_count": 115,
   "metadata": {},
   "outputs": [],
   "source": [
    "if all(y_train.index == X_train.index):\n",
    "    (pd.concat([X_train, y_train])\n",
    "        .dropna(subset = 'FIRST_DECISION')\n",
    "        .reset_index(drop = True)\n",
    "        .to_csv('train_split.csv')\n",
    "    )\n",
    "if all(y_val.index == X_val.index):\n",
    "    (pd.concat([X_val, y_val])\n",
    "        .dropna(subset = 'FIRST_DECISION')\n",
    "        .reset_index(drop = True)\n",
    "        .to_csv('val_split.csv')\n",
    "    )\n",
    "if all(y_test.index == X_test.index):\n",
    "    (pd.concat([X_test, y_test])\n",
    "        .dropna(subset = 'FIRST_DECISION')\n",
    "        .reset_index(drop = True)\n",
    "        .to_csv('test_split.csv')\n",
    "    )"
   ]
  },
  {
   "cell_type": "markdown",
   "metadata": {},
   "source": [
    "### Summary statistics: TODO for entire dataset (NAICS_DESC does not exist until you added it in train/test/split), need to add it to entire-df first for proper stats reporting"
   ]
  },
  {
   "cell_type": "code",
   "execution_count": 129,
   "metadata": {},
   "outputs": [
    {
     "data": {
      "text/html": [
       "<div>\n",
       "<style scoped>\n",
       "    .dataframe tbody tr th:only-of-type {\n",
       "        vertical-align: middle;\n",
       "    }\n",
       "\n",
       "    .dataframe tbody tr th {\n",
       "        vertical-align: top;\n",
       "    }\n",
       "\n",
       "    .dataframe thead th {\n",
       "        text-align: right;\n",
       "    }\n",
       "</style>\n",
       "<table border=\"1\" class=\"dataframe\">\n",
       "  <thead>\n",
       "    <tr style=\"text-align: right;\">\n",
       "      <th></th>\n",
       "      <th>gender</th>\n",
       "      <th>world_region_nationality</th>\n",
       "      <th>WORKSITE_REGION</th>\n",
       "      <th>NAICS_DESC</th>\n",
       "      <th>ED_LEVEL_DEFINITION</th>\n",
       "    </tr>\n",
       "  </thead>\n",
       "  <tbody>\n",
       "    <tr>\n",
       "      <th>count</th>\n",
       "      <td>257164</td>\n",
       "      <td>257164</td>\n",
       "      <td>257164</td>\n",
       "      <td>244856</td>\n",
       "      <td>257164</td>\n",
       "    </tr>\n",
       "    <tr>\n",
       "      <th>unique</th>\n",
       "      <td>2</td>\n",
       "      <td>7</td>\n",
       "      <td>6</td>\n",
       "      <td>21</td>\n",
       "      <td>10</td>\n",
       "    </tr>\n",
       "    <tr>\n",
       "      <th>top</th>\n",
       "      <td>male</td>\n",
       "      <td>Asia</td>\n",
       "      <td>South</td>\n",
       "      <td>Professional, Scientific, and Technical Services</td>\n",
       "      <td>NO CODE PROVIDED OR ILLEGIBLE</td>\n",
       "    </tr>\n",
       "    <tr>\n",
       "      <th>freq</th>\n",
       "      <td>174715</td>\n",
       "      <td>231573</td>\n",
       "      <td>91006</td>\n",
       "      <td>168038</td>\n",
       "      <td>90817</td>\n",
       "    </tr>\n",
       "  </tbody>\n",
       "</table>\n",
       "</div>"
      ],
      "text/plain": [
       "        gender world_region_nationality WORKSITE_REGION  \\\n",
       "count   257164                   257164          257164   \n",
       "unique       2                        7               6   \n",
       "top       male                     Asia           South   \n",
       "freq    174715                   231573           91006   \n",
       "\n",
       "                                              NAICS_DESC  \\\n",
       "count                                             244856   \n",
       "unique                                                21   \n",
       "top     Professional, Scientific, and Technical Services   \n",
       "freq                                              168038   \n",
       "\n",
       "                  ED_LEVEL_DEFINITION  \n",
       "count                          257164  \n",
       "unique                             10  \n",
       "top     NO CODE PROVIDED OR ILLEGIBLE  \n",
       "freq                            90817  "
      ]
     },
     "metadata": {},
     "output_type": "display_data"
    },
    {
     "data": {
      "text/html": [
       "<div>\n",
       "<style scoped>\n",
       "    .dataframe tbody tr th:only-of-type {\n",
       "        vertical-align: middle;\n",
       "    }\n",
       "\n",
       "    .dataframe tbody tr th {\n",
       "        vertical-align: top;\n",
       "    }\n",
       "\n",
       "    .dataframe thead th {\n",
       "        text-align: right;\n",
       "    }\n",
       "</style>\n",
       "<table border=\"1\" class=\"dataframe\">\n",
       "  <thead>\n",
       "    <tr style=\"text-align: right;\">\n",
       "      <th></th>\n",
       "      <th>WAGE_AMT_ANNUAL</th>\n",
       "      <th>ben_age_in_years</th>\n",
       "    </tr>\n",
       "  </thead>\n",
       "  <tbody>\n",
       "    <tr>\n",
       "      <th>count</th>\n",
       "      <td>257164.000000</td>\n",
       "      <td>257164.000000</td>\n",
       "    </tr>\n",
       "    <tr>\n",
       "      <th>mean</th>\n",
       "      <td>3.114079</td>\n",
       "      <td>31.281746</td>\n",
       "    </tr>\n",
       "    <tr>\n",
       "      <th>std</th>\n",
       "      <td>610.219664</td>\n",
       "      <td>5.593654</td>\n",
       "    </tr>\n",
       "    <tr>\n",
       "      <th>min</th>\n",
       "      <td>-4.146789</td>\n",
       "      <td>19.000000</td>\n",
       "    </tr>\n",
       "    <tr>\n",
       "      <th>25%</th>\n",
       "      <td>-0.467890</td>\n",
       "      <td>27.000000</td>\n",
       "    </tr>\n",
       "    <tr>\n",
       "      <th>50%</th>\n",
       "      <td>0.000000</td>\n",
       "      <td>30.000000</td>\n",
       "    </tr>\n",
       "    <tr>\n",
       "      <th>75%</th>\n",
       "      <td>0.532110</td>\n",
       "      <td>34.000000</td>\n",
       "    </tr>\n",
       "    <tr>\n",
       "      <th>max</th>\n",
       "      <td>302076.855642</td>\n",
       "      <td>65.000000</td>\n",
       "    </tr>\n",
       "  </tbody>\n",
       "</table>\n",
       "</div>"
      ],
      "text/plain": [
       "       WAGE_AMT_ANNUAL  ben_age_in_years\n",
       "count    257164.000000     257164.000000\n",
       "mean          3.114079         31.281746\n",
       "std         610.219664          5.593654\n",
       "min          -4.146789         19.000000\n",
       "25%          -0.467890         27.000000\n",
       "50%           0.000000         30.000000\n",
       "75%           0.532110         34.000000\n",
       "max      302076.855642         65.000000"
      ]
     },
     "metadata": {},
     "output_type": "display_data"
    }
   ],
   "source": [
    "display(X_train[['gender',\n",
    " 'world_region_nationality',\n",
    " 'WORKSITE_REGION',\n",
    " 'NAICS_DESC',\n",
    " 'ED_LEVEL_DEFINITION']].describe())\n",
    "\n",
    "display(X_train[['WAGE_AMT_ANNUAL', 'ben_age_in_years']].describe())\n",
    "# main_features"
   ]
  },
  {
   "cell_type": "markdown",
   "metadata": {},
   "source": [
    "### Old code below: You can safely ignore"
   ]
  },
  {
   "cell_type": "code",
   "execution_count": null,
   "metadata": {},
   "outputs": [
    {
     "data": {
      "text/plain": [
       "(array([3.268e+03, 1.100e+01, 2.000e+00, 0.000e+00, 3.000e+00, 4.000e+00,\n",
       "        3.000e+00, 6.000e+00, 1.300e+01, 1.100e+01]),\n",
       " array([   0. ,  980.4, 1960.8, 2941.2, 3921.6, 4902. , 5882.4, 6862.8,\n",
       "        7843.2, 8823.6, 9804. ]),\n",
       " <BarContainer object of 10 artists>)"
      ]
     },
     "execution_count": 87,
     "metadata": {},
     "output_type": "execute_result"
    },
    {
     "data": {
      "image/png": "[encoded data removed]",
      "text/plain": [
       "<Figure size 640x480 with 1 Axes>"
      ]
     },
     "metadata": {},
     "output_type": "display_data"
    }
   ],
   "source": [
    "plt.hist(X_train['WAGE_AMT_ANNUAL'][lambda s: s < 10000])"
   ]
  },
  {
   "cell_type": "markdown",
   "metadata": {},
   "source": [
    "### Use robust scaler to handle outliers in salary"
   ]
  },
  {
   "cell_type": "code",
   "execution_count": null,
   "metadata": {},
   "outputs": [],
   "source": [
    "## Fit and transform on the training data\n",
    "# robust_scaler = RobustScaler().fit()\n",
    "\n",
    "## Transform the validation and test data with the scaler.\n",
    "# robust_scaler.transform()"
   ]
  },
  {
   "cell_type": "markdown",
   "metadata": {},
   "source": [
    "# Visualize class distribution of features"
   ]
  },
  {
   "cell_type": "code",
   "execution_count": 24,
   "metadata": {},
   "outputs": [
    {
     "data": {
      "text/html": [
       "<div>\n",
       "<style scoped>\n",
       "    .dataframe tbody tr th:only-of-type {\n",
       "        vertical-align: middle;\n",
       "    }\n",
       "\n",
       "    .dataframe tbody tr th {\n",
       "        vertical-align: top;\n",
       "    }\n",
       "\n",
       "    .dataframe thead th {\n",
       "        text-align: right;\n",
       "    }\n",
       "</style>\n",
       "<table border=\"1\" class=\"dataframe\">\n",
       "  <thead>\n",
       "    <tr style=\"text-align: right;\">\n",
       "      <th></th>\n",
       "      <th>WAGE_AMT</th>\n",
       "      <th>WAGE_UNIT</th>\n",
       "    </tr>\n",
       "  </thead>\n",
       "  <tbody>\n",
       "    <tr>\n",
       "      <th>191</th>\n",
       "      <td>42.24</td>\n",
       "      <td>HOUR</td>\n",
       "    </tr>\n",
       "    <tr>\n",
       "      <th>304</th>\n",
       "      <td>38.74</td>\n",
       "      <td>HOUR</td>\n",
       "    </tr>\n",
       "    <tr>\n",
       "      <th>392</th>\n",
       "      <td>35.2</td>\n",
       "      <td>HOUR</td>\n",
       "    </tr>\n",
       "    <tr>\n",
       "      <th>536</th>\n",
       "      <td>41.27</td>\n",
       "      <td>HOUR</td>\n",
       "    </tr>\n",
       "    <tr>\n",
       "      <th>558</th>\n",
       "      <td>25.0</td>\n",
       "      <td>HOUR</td>\n",
       "    </tr>\n",
       "    <tr>\n",
       "      <th>...</th>\n",
       "      <td>...</td>\n",
       "      <td>...</td>\n",
       "    </tr>\n",
       "    <tr>\n",
       "      <th>349227</th>\n",
       "      <td>54.55</td>\n",
       "      <td>HOUR</td>\n",
       "    </tr>\n",
       "    <tr>\n",
       "      <th>349702</th>\n",
       "      <td>42.46</td>\n",
       "      <td>HOUR</td>\n",
       "    </tr>\n",
       "    <tr>\n",
       "      <th>349810</th>\n",
       "      <td>49.55</td>\n",
       "      <td>HOUR</td>\n",
       "    </tr>\n",
       "    <tr>\n",
       "      <th>349970</th>\n",
       "      <td>22.95</td>\n",
       "      <td>HOUR</td>\n",
       "    </tr>\n",
       "    <tr>\n",
       "      <th>350077</th>\n",
       "      <td>28.0</td>\n",
       "      <td>HOUR</td>\n",
       "    </tr>\n",
       "  </tbody>\n",
       "</table>\n",
       "<p>9642 rows × 2 columns</p>\n",
       "</div>"
      ],
      "text/plain": [
       "       WAGE_AMT WAGE_UNIT\n",
       "191       42.24      HOUR\n",
       "304       38.74      HOUR\n",
       "392        35.2      HOUR\n",
       "536       41.27      HOUR\n",
       "558        25.0      HOUR\n",
       "...         ...       ...\n",
       "349227    54.55      HOUR\n",
       "349702    42.46      HOUR\n",
       "349810    49.55      HOUR\n",
       "349970    22.95      HOUR\n",
       "350077     28.0      HOUR\n",
       "\n",
       "[9642 rows x 2 columns]"
      ]
     },
     "execution_count": 24,
     "metadata": {},
     "output_type": "execute_result"
    }
   ],
   "source": [
    "entire_df[lambda df: df['WAGE_UNIT'] == 'HOUR'][['WAGE_AMT', 'WAGE_UNIT']]"
   ]
  },
  {
   "cell_type": "code",
   "execution_count": 19,
   "metadata": {},
   "outputs": [
    {
     "data": {
      "text/plain": [
       "BEN_PFIELD_OF_STUDY\n",
       "COMPUTER SCIENCE                    47638\n",
       "INFORMATION TECHNOLOGY              10455\n",
       "COMPUTER ENGINEERING                10382\n",
       "ELECTRICAL ENGINEERING               9714\n",
       "MECHANICAL ENGINEERING               9200\n",
       "BUSINESS ADMINISTRATION              8511\n",
       "COMPUTER INFORMATION SYSTEMS         8287\n",
       "COMP SCI                             7279\n",
       "COMPUTER APPLICATIONS                7077\n",
       "COMPUTER SCIENCE AND ENGINEERING     5157\n",
       "Name: count, dtype: int64"
      ]
     },
     "execution_count": 19,
     "metadata": {},
     "output_type": "execute_result"
    }
   ],
   "source": [
    "entire_df['BEN_PFIELD_OF_STUDY'].value_counts().head(10)"
   ]
  },
  {
   "cell_type": "code",
   "execution_count": 15,
   "metadata": {},
   "outputs": [
    {
     "data": {
      "image/png": "[encoded data removed]",
      "text/plain": [
       "<Figure size 640x480 with 1 Axes>"
      ]
     },
     "metadata": {},
     "output_type": "display_data"
    },
    {
     "data": {
      "image/png": "[encoded data removed]",
      "text/plain": [
       "<Figure size 640x480 with 1 Axes>"
      ]
     },
     "metadata": {},
     "output_type": "display_data"
    },
    {
     "name": "stdout",
     "output_type": "stream",
     "text": [
      "Feature employer_name has 71081 categories. Skipping visualization...\n"
     ]
    },
    {
     "data": {
      "text/plain": [
       "employer_name\n",
       "Amazon.com Services LLC                   14470\n",
       "Infosys Limited                           14268\n",
       "Cognizant Technology Solutions US Corp     9511\n",
       "Tata Consultancy Services Limited          9203\n",
       "Google LLC                                 5424\n",
       "                                          ...  \n",
       "CTI and Associates Inc                        1\n",
       "Motif Enterprise Inc.                         1\n",
       "Atema Architecture PLLC                       1\n",
       "GLOBAL Strategies, LLC                        1\n",
       "Digibee Inc.                                  1\n",
       "Name: count, Length: 71081, dtype: int64"
      ]
     },
     "metadata": {},
     "output_type": "display_data"
    },
    {
     "name": "stdout",
     "output_type": "stream",
     "text": [
      "Feature WAGE_AMT has 31208 categories. Skipping visualization...\n"
     ]
    },
    {
     "data": {
      "text/plain": [
       "WAGE_AMT\n",
       "90000        2270\n",
       "80000        2100\n",
       "95000        1911\n",
       "100000       1863\n",
       "85000        1626\n",
       "             ... \n",
       "120568          1\n",
       "145520          1\n",
       "56015           1\n",
       "158888.88       1\n",
       "43638.0         1\n",
       "Name: count, Length: 31208, dtype: int64"
      ]
     },
     "metadata": {},
     "output_type": "display_data"
    },
    {
     "name": "stdout",
     "output_type": "stream",
     "text": [
      "Feature JOB_TITLE has 55276 categories. Skipping visualization...\n"
     ]
    },
    {
     "data": {
      "text/plain": [
       "JOB_TITLE\n",
       "SOFTWARE ENGINEER                     19255\n",
       "SOFTWARE DEVELOPER                    17126\n",
       "SOFTWARE DEVELOPMENT ENGINEER I        4484\n",
       "ANALYST                                2390\n",
       "ARCHITECT                              2213\n",
       "                                      ...  \n",
       "SOFTWARE ENGINEERING SR ADVISOR           1\n",
       "CHEMICAL SALES ENGINEER                   1\n",
       "FSO STAFF FSRM STUCTURED FINANCE          1\n",
       "ASIC CLOCKS ENGINEER HARDWARD ENGI        1\n",
       "Global Chief Financial Officer            1\n",
       "Name: count, Length: 55276, dtype: int64"
      ]
     },
     "metadata": {},
     "output_type": "display_data"
    },
    {
     "data": {
      "image/png": "[encoded data removed]",
      "text/plain": [
       "<Figure size 640x480 with 1 Axes>"
      ]
     },
     "metadata": {},
     "output_type": "display_data"
    },
    {
     "data": {
      "image/png": "[encoded data removed]",
      "text/plain": [
       "<Figure size 640x480 with 1 Axes>"
      ]
     },
     "metadata": {},
     "output_type": "display_data"
    },
    {
     "name": "stdout",
     "output_type": "stream",
     "text": [
      "Feature BEN_PFIELD_OF_STUDY has 41353 categories. Skipping visualization...\n"
     ]
    },
    {
     "data": {
      "text/plain": [
       "BEN_PFIELD_OF_STUDY\n",
       "COMPUTER SCIENCE                                             47638\n",
       "INFORMATION TECHNOLOGY                                       10455\n",
       "COMPUTER ENGINEERING                                         10382\n",
       "ELECTRICAL ENGINEERING                                        9714\n",
       "MECHANICAL ENGINEERING                                        9200\n",
       "                                                             ...  \n",
       "DUSINESS ADMINISTRATION IN MAR                                   1\n",
       "BACHELOR OF ENGRG-COMP SCIENCE                                   1\n",
       "INFORMATIONSYSTEMSSECURITY                                       1\n",
       "CMPTR AND INFO SCI AND PHYSICS                                   1\n",
       "BUSINESS ADMINISTRATION IN FINANCE AND BUSINESS ANALYTICS        1\n",
       "Name: count, Length: 41353, dtype: int64"
      ]
     },
     "metadata": {},
     "output_type": "display_data"
    },
    {
     "data": {
      "image/png": "[encoded data removed]",
      "text/plain": [
       "<Figure size 640x480 with 1 Axes>"
      ]
     },
     "metadata": {},
     "output_type": "display_data"
    }
   ],
   "source": [
    "def autopct_format(values):\n",
    "    def my_format(pct):\n",
    "        total = sum(values)\n",
    "        val = int(round(pct*total/100.0))\n",
    "\n",
    "        # Don't return anything if the percentage is less than ...\n",
    "        if float('{:.1f}'.format(pct, v=val)) < 5:\n",
    "            return None\n",
    "        return '{:.1f}%\\n({v:d})'.format(pct, v=val)\n",
    "    return my_format\n",
    "\n",
    "for feature in main_features:\n",
    "    # display(entire_df[feature].value_counts())\n",
    "    s = entire_df[feature].value_counts()\n",
    "    if s.shape[0] >= 200:\n",
    "        print(f\"Feature {feature} has {s.shape[0]} categories. Skipping visualization...\")\n",
    "        display(s)\n",
    "        continue\n",
    "    if feature not in ['WAGE_AMT', 'WAGE_UNIT']:\n",
    "        plt.pie(s,labels = s.index, autopct=autopct_format(s))\n",
    "        plt.title(f'Distribution of {feature}')\n",
    "        plt.show()"
   ]
  },
  {
   "cell_type": "markdown",
   "metadata": {},
   "source": [
    "# Count Missing Values"
   ]
  },
  {
   "cell_type": "code",
   "execution_count": null,
   "metadata": {},
   "outputs": [],
   "source": [
    "# Count Missing Values \n",
    "entire_df_missing_vals = pd.DataFrame(entire_df[main_features].isna().sum()).reset_index().rename(columns = {\"index\": \"Feature\", 0: 'Total Missing Values'})\n",
    "entire_df_missing_vals['Percentage'] = np.round((entire_df_missing_vals['Total Missing Values'] / entire_df.shape[0]) * 100, 2)\n",
    "entire_df_missing_vals"
   ]
  },
  {
   "cell_type": "code",
   "execution_count": null,
   "metadata": {},
   "outputs": [],
   "source": [
    "# Write intermediate datasets to CSV files\n",
    "df_2021.to_csv('preprocessed_data/FY2021_cleaned_H1B.csv')\n",
    "df_2022.to_csv('preprocessed_data/FY2022_cleaned_H1B.csv')\n",
    "df_2023.to_csv('preprocessed_data/FY2023_cleaned_H1B.csv')\n",
    "df_2024_multi.to_csv('preprocessed_data/FY2024_multi_reg_cleaned_H1B.csv')\n",
    "df_2024_single.to_csv('preprocessed_data/FY2024_single_reg_cleaned_H1B.csv')"
   ]
  },
  {
   "cell_type": "markdown",
   "metadata": {},
   "source": [
    "**Your slides should include**:\n",
    "- Title, Authors\n",
    "\n",
    "- What is the question you will be working on? Why is it interesting?\n",
    "\n",
    "\n",
    "- What is the data you will be using? Include data source, size of dataset, main features to be used. Please also include summary statistics of your data.\n",
    "\n",
    "\n",
    "- What prediction algorithms do you plan to use? Please describe them in detail?\n",
    "\n",
    "\n",
    "- How will you evaluate your results? Please describe your chosen performance metrics and/or statistical tests in detail"
   ]
  },
  {
   "cell_type": "code",
   "execution_count": 79,
   "metadata": {},
   "outputs": [
    {
     "data": {
      "text/plain": [
       "array(['Denied', 'Approved', nan], dtype=object)"
      ]
     },
     "execution_count": 79,
     "metadata": {},
     "output_type": "execute_result"
    }
   ],
   "source": [
    "df_2024_single['FIRST_DECISION'].unique()"
   ]
  },
  {
   "cell_type": "code",
   "execution_count": 46,
   "metadata": {},
   "outputs": [
    {
     "data": {
      "text/html": [
       "<div>\n",
       "<style scoped>\n",
       "    .dataframe tbody tr th:only-of-type {\n",
       "        vertical-align: middle;\n",
       "    }\n",
       "\n",
       "    .dataframe tbody tr th {\n",
       "        vertical-align: top;\n",
       "    }\n",
       "\n",
       "    .dataframe thead th {\n",
       "        text-align: right;\n",
       "    }\n",
       "</style>\n",
       "<table border=\"1\" class=\"dataframe\">\n",
       "  <thead>\n",
       "    <tr style=\"text-align: right;\">\n",
       "      <th></th>\n",
       "      <th>BEN_EDUCATION_CODE</th>\n",
       "      <th>ED_LEVEL_DEFINITION</th>\n",
       "    </tr>\n",
       "  </thead>\n",
       "  <tbody>\n",
       "    <tr>\n",
       "      <th>2</th>\n",
       "      <td>G</td>\n",
       "      <td>MASTER'S DEGREE</td>\n",
       "    </tr>\n",
       "    <tr>\n",
       "      <th>11</th>\n",
       "      <td>F</td>\n",
       "      <td>BACHELOR'S DEGREE</td>\n",
       "    </tr>\n",
       "    <tr>\n",
       "      <th>13</th>\n",
       "      <td>NaN</td>\n",
       "      <td>NaN</td>\n",
       "    </tr>\n",
       "    <tr>\n",
       "      <th>46</th>\n",
       "      <td>I</td>\n",
       "      <td>DOCTORATE DEGREE</td>\n",
       "    </tr>\n",
       "    <tr>\n",
       "      <th>441</th>\n",
       "      <td>H</td>\n",
       "      <td>PROFESSIONAL DEGREE</td>\n",
       "    </tr>\n",
       "    <tr>\n",
       "      <th>1366</th>\n",
       "      <td>A</td>\n",
       "      <td>NO DIPLOMA</td>\n",
       "    </tr>\n",
       "    <tr>\n",
       "      <th>1775</th>\n",
       "      <td>B</td>\n",
       "      <td>HIGH SCHOOL GRADUATE</td>\n",
       "    </tr>\n",
       "    <tr>\n",
       "      <th>5686</th>\n",
       "      <td>D</td>\n",
       "      <td>1 OR MORE YEARS OF COLLEGE, NO DEGREE</td>\n",
       "    </tr>\n",
       "    <tr>\n",
       "      <th>7295</th>\n",
       "      <td>E</td>\n",
       "      <td>ASSOCIATE'S DEGREE</td>\n",
       "    </tr>\n",
       "    <tr>\n",
       "      <th>132112</th>\n",
       "      <td>J</td>\n",
       "      <td>NO CODE PROVIDED OR ILLEGIBLE</td>\n",
       "    </tr>\n",
       "    <tr>\n",
       "      <th>166591</th>\n",
       "      <td>C</td>\n",
       "      <td>SOME COLLEGE CREDIT, BUT LESS THAN 1 YEAR</td>\n",
       "    </tr>\n",
       "  </tbody>\n",
       "</table>\n",
       "</div>"
      ],
      "text/plain": [
       "       BEN_EDUCATION_CODE                        ED_LEVEL_DEFINITION\n",
       "2                       G                            MASTER'S DEGREE\n",
       "11                      F                          BACHELOR'S DEGREE\n",
       "13                    NaN                                        NaN\n",
       "46                      I                           DOCTORATE DEGREE\n",
       "441                     H                        PROFESSIONAL DEGREE\n",
       "1366                    A                                 NO DIPLOMA\n",
       "1775                    B                       HIGH SCHOOL GRADUATE\n",
       "5686                    D      1 OR MORE YEARS OF COLLEGE, NO DEGREE\n",
       "7295                    E                         ASSOCIATE'S DEGREE\n",
       "132112                  J              NO CODE PROVIDED OR ILLEGIBLE\n",
       "166591                  C  SOME COLLEGE CREDIT, BUT LESS THAN 1 YEAR"
      ]
     },
     "execution_count": 46,
     "metadata": {},
     "output_type": "execute_result"
    }
   ],
   "source": [
    "df_2021[['BEN_EDUCATION_CODE', 'ED_LEVEL_DEFINITION']].drop_duplicates()"
   ]
  },
  {
   "cell_type": "code",
   "execution_count": 50,
   "metadata": {},
   "outputs": [
    {
     "data": {
      "text/html": [
       "<div>\n",
       "<style scoped>\n",
       "    .dataframe tbody tr th:only-of-type {\n",
       "        vertical-align: middle;\n",
       "    }\n",
       "\n",
       "    .dataframe tbody tr th {\n",
       "        vertical-align: top;\n",
       "    }\n",
       "\n",
       "    .dataframe thead th {\n",
       "        text-align: right;\n",
       "    }\n",
       "</style>\n",
       "<table border=\"1\" class=\"dataframe\">\n",
       "  <thead>\n",
       "    <tr style=\"text-align: right;\">\n",
       "      <th></th>\n",
       "      <th>country_of_nationality</th>\n",
       "    </tr>\n",
       "  </thead>\n",
       "  <tbody>\n",
       "    <tr>\n",
       "      <th>2</th>\n",
       "      <td>CAN</td>\n",
       "    </tr>\n",
       "    <tr>\n",
       "      <th>4</th>\n",
       "      <td>IND</td>\n",
       "    </tr>\n",
       "    <tr>\n",
       "      <th>9</th>\n",
       "      <td>CHN</td>\n",
       "    </tr>\n",
       "    <tr>\n",
       "      <th>12</th>\n",
       "      <td>VNM</td>\n",
       "    </tr>\n",
       "    <tr>\n",
       "      <th>24</th>\n",
       "      <td>GHA</td>\n",
       "    </tr>\n",
       "    <tr>\n",
       "      <th>...</th>\n",
       "      <td>...</td>\n",
       "    </tr>\n",
       "    <tr>\n",
       "      <th>196840</th>\n",
       "      <td>XKS</td>\n",
       "    </tr>\n",
       "    <tr>\n",
       "      <th>219116</th>\n",
       "      <td>LUX</td>\n",
       "    </tr>\n",
       "    <tr>\n",
       "      <th>220904</th>\n",
       "      <td>MOZ</td>\n",
       "    </tr>\n",
       "    <tr>\n",
       "      <th>236680</th>\n",
       "      <td>SOM</td>\n",
       "    </tr>\n",
       "    <tr>\n",
       "      <th>248945</th>\n",
       "      <td>BTN</td>\n",
       "    </tr>\n",
       "  </tbody>\n",
       "</table>\n",
       "<p>165 rows × 1 columns</p>\n",
       "</div>"
      ],
      "text/plain": [
       "       country_of_nationality\n",
       "2                         CAN\n",
       "4                         IND\n",
       "9                         CHN\n",
       "12                        VNM\n",
       "24                        GHA\n",
       "...                       ...\n",
       "196840                    XKS\n",
       "219116                    LUX\n",
       "220904                    MOZ\n",
       "236680                    SOM\n",
       "248945                    BTN\n",
       "\n",
       "[165 rows x 1 columns]"
      ]
     },
     "execution_count": 50,
     "metadata": {},
     "output_type": "execute_result"
    }
   ],
   "source": [
    "df_2021[['country_of_nationality']].drop_duplicates()"
   ]
  },
  {
   "cell_type": "code",
   "execution_count": 54,
   "metadata": {},
   "outputs": [
    {
     "data": {
      "text/html": [
       "<div>\n",
       "<style scoped>\n",
       "    .dataframe tbody tr th:only-of-type {\n",
       "        vertical-align: middle;\n",
       "    }\n",
       "\n",
       "    .dataframe tbody tr th {\n",
       "        vertical-align: top;\n",
       "    }\n",
       "\n",
       "    .dataframe thead th {\n",
       "        text-align: right;\n",
       "    }\n",
       "</style>\n",
       "<table border=\"1\" class=\"dataframe\">\n",
       "  <thead>\n",
       "    <tr style=\"text-align: right;\">\n",
       "      <th></th>\n",
       "      <th>country_of_nationality</th>\n",
       "      <th>ben_year_of_birth</th>\n",
       "      <th>gender</th>\n",
       "      <th>employer_name</th>\n",
       "      <th>state</th>\n",
       "      <th>zip</th>\n",
       "      <th>agent_first_name</th>\n",
       "      <th>agent_last_name</th>\n",
       "      <th>lottery_year</th>\n",
       "      <th>status_type</th>\n",
       "      <th>...</th>\n",
       "      <th>NUM_OF_EMP_IN_US</th>\n",
       "      <th>S1Q1A</th>\n",
       "      <th>ED_LEVEL_DEFINITION</th>\n",
       "      <th>BEN_PFIELD_OF_STUDY</th>\n",
       "      <th>BEN_COMP_PAID</th>\n",
       "      <th>DOT_CODE</th>\n",
       "      <th>NAICS_CODE</th>\n",
       "      <th>S3Q1</th>\n",
       "      <th>S4Q1</th>\n",
       "      <th>T_U_VAWA_FLAG</th>\n",
       "    </tr>\n",
       "  </thead>\n",
       "  <tbody>\n",
       "    <tr>\n",
       "      <th>2</th>\n",
       "      <td>CAN</td>\n",
       "      <td>1988</td>\n",
       "      <td>male</td>\n",
       "      <td>Tesla, Inc.</td>\n",
       "      <td>CA</td>\n",
       "      <td>94304-1317</td>\n",
       "      <td>Shannon</td>\n",
       "      <td>Napier Barnes</td>\n",
       "      <td>2021</td>\n",
       "      <td>SELECTED</td>\n",
       "      <td>...</td>\n",
       "      <td>0</td>\n",
       "      <td>N</td>\n",
       "      <td>MASTER'S DEGREE</td>\n",
       "      <td>COMPUTER ENGINEERING</td>\n",
       "      <td>125000</td>\n",
       "      <td>007</td>\n",
       "      <td>336111</td>\n",
       "      <td>B</td>\n",
       "      <td>N</td>\n",
       "      <td>NaN</td>\n",
       "    </tr>\n",
       "    <tr>\n",
       "      <th>4</th>\n",
       "      <td>IND</td>\n",
       "      <td>1990</td>\n",
       "      <td>male</td>\n",
       "      <td>XENON INFOTEK INC</td>\n",
       "      <td>NJ</td>\n",
       "      <td>08817-2436</td>\n",
       "      <td>AMITA</td>\n",
       "      <td>MISHRA</td>\n",
       "      <td>2021</td>\n",
       "      <td>SELECTED</td>\n",
       "      <td>...</td>\n",
       "      <td>0</td>\n",
       "      <td>Y</td>\n",
       "      <td>MASTER'S DEGREE</td>\n",
       "      <td>COMPUTER SCI</td>\n",
       "      <td>93496</td>\n",
       "      <td>NaN</td>\n",
       "      <td>541511</td>\n",
       "      <td>B</td>\n",
       "      <td>Y</td>\n",
       "      <td>NaN</td>\n",
       "    </tr>\n",
       "    <tr>\n",
       "      <th>5</th>\n",
       "      <td>IND</td>\n",
       "      <td>1994</td>\n",
       "      <td>male</td>\n",
       "      <td>MICROSILICON, INC.</td>\n",
       "      <td>TX</td>\n",
       "      <td>77042-2829</td>\n",
       "      <td>OMAR</td>\n",
       "      <td>KULBRANDSTAD</td>\n",
       "      <td>2021</td>\n",
       "      <td>SELECTED</td>\n",
       "      <td>...</td>\n",
       "      <td>0</td>\n",
       "      <td>N</td>\n",
       "      <td>MASTER'S DEGREE</td>\n",
       "      <td>ELECTRICAL ENGINEERING</td>\n",
       "      <td>100000</td>\n",
       "      <td>003</td>\n",
       "      <td>541330</td>\n",
       "      <td>B</td>\n",
       "      <td>N</td>\n",
       "      <td>NaN</td>\n",
       "    </tr>\n",
       "    <tr>\n",
       "      <th>6</th>\n",
       "      <td>IND</td>\n",
       "      <td>1994</td>\n",
       "      <td>female</td>\n",
       "      <td>Genpact LLC</td>\n",
       "      <td>NJ</td>\n",
       "      <td>07078-2704</td>\n",
       "      <td>Abhishek</td>\n",
       "      <td>Byrapogula</td>\n",
       "      <td>2021</td>\n",
       "      <td>SELECTED</td>\n",
       "      <td>...</td>\n",
       "      <td>0</td>\n",
       "      <td>N</td>\n",
       "      <td>MASTER'S DEGREE</td>\n",
       "      <td>INFORMATION SYSTEMS</td>\n",
       "      <td>73798</td>\n",
       "      <td>030</td>\n",
       "      <td>54161</td>\n",
       "      <td>B</td>\n",
       "      <td>Y</td>\n",
       "      <td>NaN</td>\n",
       "    </tr>\n",
       "    <tr>\n",
       "      <th>7</th>\n",
       "      <td>IND</td>\n",
       "      <td>1996</td>\n",
       "      <td>male</td>\n",
       "      <td>DEW SOFTWARE, INC.</td>\n",
       "      <td>CA</td>\n",
       "      <td>94539-6118</td>\n",
       "      <td>Suresh</td>\n",
       "      <td>Deopura</td>\n",
       "      <td>2021</td>\n",
       "      <td>SELECTED</td>\n",
       "      <td>...</td>\n",
       "      <td>47</td>\n",
       "      <td>Y</td>\n",
       "      <td>MASTER'S DEGREE</td>\n",
       "      <td>COMPUTER SCIENCE</td>\n",
       "      <td>85842</td>\n",
       "      <td>030</td>\n",
       "      <td>541511</td>\n",
       "      <td>B</td>\n",
       "      <td>Y</td>\n",
       "      <td>NaN</td>\n",
       "    </tr>\n",
       "  </tbody>\n",
       "</table>\n",
       "<p>5 rows × 48 columns</p>\n",
       "</div>"
      ],
      "text/plain": [
       "  country_of_nationality ben_year_of_birth  gender       employer_name state  \\\n",
       "2                    CAN              1988    male         Tesla, Inc.    CA   \n",
       "4                    IND              1990    male   XENON INFOTEK INC    NJ   \n",
       "5                    IND              1994    male  MICROSILICON, INC.    TX   \n",
       "6                    IND              1994  female         Genpact LLC    NJ   \n",
       "7                    IND              1996    male  DEW SOFTWARE, INC.    CA   \n",
       "\n",
       "          zip agent_first_name agent_last_name lottery_year status_type  ...  \\\n",
       "2  94304-1317          Shannon   Napier Barnes         2021    SELECTED  ...   \n",
       "4  08817-2436            AMITA          MISHRA         2021    SELECTED  ...   \n",
       "5  77042-2829             OMAR    KULBRANDSTAD         2021    SELECTED  ...   \n",
       "6  07078-2704         Abhishek      Byrapogula         2021    SELECTED  ...   \n",
       "7  94539-6118           Suresh         Deopura         2021    SELECTED  ...   \n",
       "\n",
       "  NUM_OF_EMP_IN_US S1Q1A ED_LEVEL_DEFINITION     BEN_PFIELD_OF_STUDY  \\\n",
       "2                0     N     MASTER'S DEGREE    COMPUTER ENGINEERING   \n",
       "4                0     Y     MASTER'S DEGREE            COMPUTER SCI   \n",
       "5                0     N     MASTER'S DEGREE  ELECTRICAL ENGINEERING   \n",
       "6                0     N     MASTER'S DEGREE     INFORMATION SYSTEMS   \n",
       "7               47     Y     MASTER'S DEGREE        COMPUTER SCIENCE   \n",
       "\n",
       "  BEN_COMP_PAID DOT_CODE NAICS_CODE S3Q1 S4Q1 T_U_VAWA_FLAG  \n",
       "2        125000      007     336111    B    N           NaN  \n",
       "4         93496      NaN     541511    B    Y           NaN  \n",
       "5        100000      003     541330    B    N           NaN  \n",
       "6         73798      030      54161    B    Y           NaN  \n",
       "7         85842      030     541511    B    Y           NaN  \n",
       "\n",
       "[5 rows x 48 columns]"
      ]
     },
     "execution_count": 54,
     "metadata": {},
     "output_type": "execute_result"
    }
   ],
   "source": [
    "df_2021.head().drop(columns = ['bcn', 'country_of_birth', 'ben_date_of_birth', 'FEIN', 'mail_addr', 'city', 'S1Q1B', 'BEN_EDUCATION_CODE'])"
   ]
  },
  {
   "cell_type": "code",
   "execution_count": 70,
   "metadata": {},
   "outputs": [
    {
     "data": {
      "text/plain": [
       "gender    0\n",
       "dtype: int64"
      ]
     },
     "execution_count": 70,
     "metadata": {},
     "output_type": "execute_result"
    }
   ],
   "source": [
    "df_2021[['gender']].isna().sum()"
   ]
  },
  {
   "cell_type": "code",
   "execution_count": 62,
   "metadata": {},
   "outputs": [
    {
     "data": {
      "text/plain": [
       "BEN_COMP_PAID     24390\n",
       "WAGE_AMT         124368\n",
       "dtype: int64"
      ]
     },
     "execution_count": 62,
     "metadata": {},
     "output_type": "execute_result"
    }
   ],
   "source": [
    "df_2021[['BEN_COMP_PAID', 'WAGE_AMT']].isna().sum()"
   ]
  },
  {
   "cell_type": "code",
   "execution_count": 65,
   "metadata": {},
   "outputs": [
    {
     "data": {
      "text/plain": [
       "((131896, 56),\n",
       " BEN_COMP_PAID     42005\n",
       " WAGE_AMT         131896\n",
       " dtype: int64)"
      ]
     },
     "execution_count": 65,
     "metadata": {},
     "output_type": "execute_result"
    }
   ],
   "source": [
    "df_2022.shape, df_2022[['BEN_COMP_PAID', 'WAGE_AMT']].isna().sum()"
   ]
  },
  {
   "cell_type": "code",
   "execution_count": 66,
   "metadata": {},
   "outputs": [
    {
     "data": {
      "text/plain": [
       "((127563, 56),\n",
       " BEN_COMP_PAID    36063\n",
       " WAGE_AMT         33548\n",
       " dtype: int64)"
      ]
     },
     "execution_count": 66,
     "metadata": {},
     "output_type": "execute_result"
    }
   ],
   "source": [
    "df_2023.shape, df_2023[['BEN_COMP_PAID', 'WAGE_AMT']].isna().sum()"
   ]
  },
  {
   "cell_type": "code",
   "execution_count": 68,
   "metadata": {},
   "outputs": [
    {
     "data": {
      "text/plain": [
       "((85304, 56),\n",
       " BEN_COMP_PAID    18032\n",
       " WAGE_AMT         16648\n",
       " dtype: int64)"
      ]
     },
     "execution_count": 68,
     "metadata": {},
     "output_type": "execute_result"
    }
   ],
   "source": [
    "df_2024_single.shape, df_2024_single[['BEN_COMP_PAID', 'WAGE_AMT']].isna().sum()"
   ]
  },
  {
   "cell_type": "code",
   "execution_count": 69,
   "metadata": {},
   "outputs": [
    {
     "data": {
      "text/plain": [
       "((103060, 56),\n",
       " BEN_COMP_PAID    80388\n",
       " WAGE_AMT         79596\n",
       " dtype: int64)"
      ]
     },
     "execution_count": 69,
     "metadata": {},
     "output_type": "execute_result"
    }
   ],
   "source": [
    "df_2024_multi.shape, df_2024_multi[['BEN_COMP_PAID', 'WAGE_AMT']].isna().sum()"
   ]
  },
  {
   "cell_type": "code",
   "execution_count": 60,
   "metadata": {},
   "outputs": [
    {
     "data": {
      "text/plain": [
       "15853"
      ]
     },
     "execution_count": 60,
     "metadata": {},
     "output_type": "execute_result"
    }
   ],
   "source": [
    "len(df_2021['JOB_TITLE'].unique())"
   ]
  }
 ],
 "metadata": {
  "kernelspec": {
   "display_name": "Python 3",
   "language": "python",
   "name": "python3"
  },
  "language_info": {
   "codemirror_mode": {
    "name": "ipython",
    "version": 3
   },
   "file_extension": ".py",
   "mimetype": "text/x-python",
   "name": "python",
   "nbconvert_exporter": "python",
   "pygments_lexer": "ipython3",
   "version": "3.12.2"
  }
 },
 "nbformat": 4,
 "nbformat_minor": 2
}
